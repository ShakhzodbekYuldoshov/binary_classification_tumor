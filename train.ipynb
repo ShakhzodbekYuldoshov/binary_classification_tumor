{
 "cells": [
  {
   "cell_type": "code",
   "execution_count": 7,
   "id": "4a0e792b",
   "metadata": {},
   "outputs": [],
   "source": [
    "# import dependencies\n",
    "import tensorflow\n",
    "from tensorflow.keras.layers import Input, Lambda, Dense, Flatten\n",
    "from tensorflow.keras.models import Model\n",
    "from tensorflow.keras.applications.vgg16 import VGG16\n",
    "from tensorflow.keras.applications.vgg16 import preprocess_input\n",
    "from tensorflow.keras.preprocessing import image\n",
    "from tensorflow.keras.preprocessing import image\n",
    "from tensorflow.keras.preprocessing.image import ImageDataGenerator\n",
    "from tensorflow.keras.models import Sequential\n",
    "import numpy as np\n",
    "from glob import glob\n",
    "import matplotlib.pyplot as plt"
   ]
  },
  {
   "cell_type": "code",
   "execution_count": 2,
   "id": "5280df67",
   "metadata": {},
   "outputs": [],
   "source": [
    "# since model is trained on imagenet size should be 224x224\n",
    "IMAGE_SIZE = [224, 224]"
   ]
  },
  {
   "cell_type": "code",
   "execution_count": 3,
   "id": "a9d88fb8",
   "metadata": {},
   "outputs": [],
   "source": [
    "train_path = './dataset/train'\n",
    "test_path = './dataset/test'"
   ]
  },
  {
   "cell_type": "code",
   "execution_count": 4,
   "id": "982b4f88",
   "metadata": {},
   "outputs": [],
   "source": [
    "vgg = VGG16(input_shape=IMAGE_SIZE + [3], weights='imagenet', include_top=False)"
   ]
  },
  {
   "cell_type": "code",
   "execution_count": null,
   "id": "ebe87810",
   "metadata": {},
   "outputs": [],
   "source": []
  },
  {
   "cell_type": "code",
   "execution_count": 5,
   "id": "f0951dae",
   "metadata": {},
   "outputs": [],
   "source": [
    "for layer in vgg.layers:\n",
    "    layer.trainable = False"
   ]
  },
  {
   "cell_type": "code",
   "execution_count": 63,
   "id": "2e3adcfa",
   "metadata": {},
   "outputs": [
    {
     "name": "stdout",
     "output_type": "stream",
     "text": [
      "Model: \"model_3\"\n",
      "_________________________________________________________________\n",
      " Layer (type)                Output Shape              Param #   \n",
      "=================================================================\n",
      " input_5 (InputLayer)        [(None, 224, 224, 3)]     0         \n",
      "                                                                 \n",
      " block1_conv1 (Conv2D)       (None, 224, 224, 64)      1792      \n",
      "                                                                 \n",
      " block1_conv2 (Conv2D)       (None, 224, 224, 64)      36928     \n",
      "                                                                 \n",
      " block1_pool (MaxPooling2D)  (None, 112, 112, 64)      0         \n",
      "                                                                 \n",
      " block2_conv1 (Conv2D)       (None, 112, 112, 128)     73856     \n",
      "                                                                 \n",
      " block2_conv2 (Conv2D)       (None, 112, 112, 128)     147584    \n",
      "                                                                 \n",
      " block2_pool (MaxPooling2D)  (None, 56, 56, 128)       0         \n",
      "                                                                 \n",
      " block3_conv1 (Conv2D)       (None, 56, 56, 256)       295168    \n",
      "                                                                 \n",
      " block3_conv2 (Conv2D)       (None, 56, 56, 256)       590080    \n",
      "                                                                 \n",
      " block3_conv3 (Conv2D)       (None, 56, 56, 256)       590080    \n",
      "                                                                 \n",
      " block3_pool (MaxPooling2D)  (None, 28, 28, 256)       0         \n",
      "                                                                 \n",
      " block4_conv1 (Conv2D)       (None, 28, 28, 512)       1180160   \n",
      "                                                                 \n",
      " block4_conv2 (Conv2D)       (None, 28, 28, 512)       2359808   \n",
      "                                                                 \n",
      " block4_conv3 (Conv2D)       (None, 28, 28, 512)       2359808   \n",
      "                                                                 \n",
      " block4_pool (MaxPooling2D)  (None, 14, 14, 512)       0         \n",
      "                                                                 \n",
      " block5_conv1 (Conv2D)       (None, 14, 14, 512)       2359808   \n",
      "                                                                 \n",
      " block5_conv2 (Conv2D)       (None, 14, 14, 512)       2359808   \n",
      "                                                                 \n",
      " block5_conv3 (Conv2D)       (None, 14, 14, 512)       2359808   \n",
      "                                                                 \n",
      " block5_pool (MaxPooling2D)  (None, 7, 7, 512)         0         \n",
      "                                                                 \n",
      " flatten_5 (Flatten)         (None, 25088)             0         \n",
      "                                                                 \n",
      " dense_5 (Dense)             (None, 2)                 50178     \n",
      "                                                                 \n",
      "=================================================================\n",
      "Total params: 14,764,866\n",
      "Trainable params: 50,178\n",
      "Non-trainable params: 14,714,688\n",
      "_________________________________________________________________\n"
     ]
    }
   ],
   "source": [
    "x = Flatten()(vgg.output)\n",
    "prediction = Dense(2, activation='softmax')(x)\n",
    "model = Model(inputs=vgg.input, outputs=prediction)\n",
    "model.summary()"
   ]
  },
  {
   "cell_type": "code",
   "execution_count": 111,
   "id": "0879fd47",
   "metadata": {},
   "outputs": [],
   "source": [
    "from tensorflow.keras import optimizers\n",
    "import tensorflow\n",
    "\n",
    "\n",
    "metrics_keras = [\n",
    "                tensorflow.keras.metrics.AUC(name=\"auc\"),\n",
    "                tensorflow.keras.metrics.BinaryAccuracy(name=\"acc\"),\n",
    "                tensorflow.keras.metrics.TruePositives(name=\"positive\"),\n",
    "                tensorflow.keras.metrics.TrueNegatives(name=\"negative\"),\n",
    "                tensorflow.keras.metrics.Precision(name=\"precision\"),\n",
    "                tensorflow.keras.metrics.Recall(name=\"recall\"),\n",
    "]\n",
    "\n",
    "adam = optimizers.Adam()\n",
    "model.compile(loss='binary_crossentropy',\n",
    "             optimizer=adam,\n",
    "             metrics=metrics_keras)"
   ]
  },
  {
   "cell_type": "code",
   "execution_count": 15,
   "id": "dcd397ae",
   "metadata": {},
   "outputs": [],
   "source": [
    "train_dataget = ImageDataGenerator(\n",
    "                                    preprocessing_function=preprocess_input,\n",
    "                                    rotation_range=40,\n",
    "                                    width_shift_range=0.2,\n",
    "                                    height_shift_range=0.2,\n",
    "                                    shear_range=0.2,\n",
    "                                    zoom_range=0.2,\n",
    "                                    horizontal_flip=True,\n",
    "                                    fill_mode='nearest')"
   ]
  },
  {
   "cell_type": "code",
   "execution_count": 16,
   "id": "2d03d4a6",
   "metadata": {},
   "outputs": [],
   "source": [
    "test_dataget = ImageDataGenerator(\n",
    "                                    preprocessing_function=preprocess_input,\n",
    "                                    rotation_range=40,\n",
    "                                    width_shift_range=0.2,\n",
    "                                    height_shift_range=0.2,\n",
    "                                    shear_range=0.2,\n",
    "                                    zoom_range=0.2,\n",
    "                                    horizontal_flip=True,\n",
    "                                    fill_mode='nearest')"
   ]
  },
  {
   "cell_type": "code",
   "execution_count": 17,
   "id": "84b12c77",
   "metadata": {},
   "outputs": [
    {
     "name": "stdout",
     "output_type": "stream",
     "text": [
      "Found 2637 images belonging to 2 classes.\n"
     ]
    }
   ],
   "source": [
    "train_set = train_dataget.flow_from_directory(train_path,\n",
    "                                             target_size=(224,224),\n",
    "                                             batch_size=32,\n",
    "                                             class_mode = 'categorical')"
   ]
  },
  {
   "cell_type": "code",
   "execution_count": 18,
   "id": "0f7922e5",
   "metadata": {},
   "outputs": [
    {
     "name": "stdout",
     "output_type": "stream",
     "text": [
      "Found 660 images belonging to 2 classes.\n"
     ]
    }
   ],
   "source": [
    "test_set = test_dataget.flow_from_directory(test_path,\n",
    "                                             target_size=(224,224),\n",
    "                                             batch_size=32,\n",
    "                                             class_mode = 'categorical')"
   ]
  },
  {
   "cell_type": "code",
   "execution_count": 116,
   "id": "eb5b494e",
   "metadata": {},
   "outputs": [],
   "source": [
    "import tensorflow\n",
    "from datetime import datetime\n",
    "from tensorflow.keras.callbacks import ModelCheckpoint\n",
    "from keras.callbacks import ReduceLROnPlateau\n",
    "\n",
    "# checkpoint = ModelCheckpoint(filepath='mymodel.h5',\n",
    "#                               verbose=2, save_best_only=True)\n",
    "\n",
    "lr_reduce = ReduceLROnPlateau(monitor='auc', mode=\"max\", factor=0.8, min_delta=0.001, patience=20, verbose=1)\n",
    "\n",
    "callbacks = [lr_reduce]\n"
   ]
  },
  {
   "cell_type": "code",
   "execution_count": 117,
   "id": "b1d7988d",
   "metadata": {},
   "outputs": [
    {
     "name": "stderr",
     "output_type": "stream",
     "text": [
      "C:\\Users\\Shahzod\\anaconda3\\envs\\keras\\lib\\site-packages\\ipykernel_launcher.py:10: UserWarning: `Model.fit_generator` is deprecated and will be removed in a future version. Please use `Model.fit`, which supports generators.\n",
      "  # Remove the CWD from sys.path while we load stuff.\n"
     ]
    },
    {
     "name": "stdout",
     "output_type": "stream",
     "text": [
      "Epoch 1/10\n",
      "5/5 - 8s - loss: 2.4234 - auc: 0.8154 - acc: 0.7812 - positive: 125.0000 - negative: 125.0000 - precision: 0.7812 - recall: 0.7812 - lr: 0.0010 - 8s/epoch - 2s/step\n",
      "Epoch 2/10\n",
      "5/5 - 10s - loss: 2.6541 - auc: 0.7948 - acc: 0.7688 - positive: 123.0000 - negative: 123.0000 - precision: 0.7688 - recall: 0.7688 - lr: 0.0010 - 10s/epoch - 2s/step\n",
      "Epoch 3/10\n",
      "5/5 - 10s - loss: 1.8726 - auc: 0.8247 - acc: 0.8188 - positive: 131.0000 - negative: 131.0000 - precision: 0.8188 - recall: 0.8188 - lr: 0.0010 - 10s/epoch - 2s/step\n",
      "Epoch 4/10\n",
      "5/5 - 10s - loss: 1.7130 - auc: 0.8716 - acc: 0.8375 - positive: 134.0000 - negative: 134.0000 - precision: 0.8375 - recall: 0.8375 - lr: 0.0010 - 10s/epoch - 2s/step\n",
      "Epoch 5/10\n",
      "5/5 - 10s - loss: 2.0645 - auc: 0.8463 - acc: 0.8125 - positive: 130.0000 - negative: 130.0000 - precision: 0.8125 - recall: 0.8125 - lr: 0.0010 - 10s/epoch - 2s/step\n",
      "Epoch 6/10\n",
      "5/5 - 10s - loss: 1.3634 - auc: 0.8693 - acc: 0.8375 - positive: 134.0000 - negative: 134.0000 - precision: 0.8375 - recall: 0.8375 - lr: 0.0010 - 10s/epoch - 2s/step\n",
      "Epoch 7/10\n",
      "5/5 - 10s - loss: 2.4153 - auc: 0.8477 - acc: 0.8500 - positive: 136.0000 - negative: 136.0000 - precision: 0.8500 - recall: 0.8500 - lr: 0.0010 - 10s/epoch - 2s/step\n",
      "Epoch 8/10\n",
      "5/5 - 10s - loss: 1.9852 - auc: 0.8455 - acc: 0.8250 - positive: 132.0000 - negative: 132.0000 - precision: 0.8250 - recall: 0.8250 - lr: 0.0010 - 10s/epoch - 2s/step\n",
      "Epoch 9/10\n",
      "5/5 - 10s - loss: 1.5888 - auc: 0.8505 - acc: 0.8313 - positive: 133.0000 - negative: 133.0000 - precision: 0.8313 - recall: 0.8313 - lr: 0.0010 - 10s/epoch - 2s/step\n",
      "Epoch 10/10\n",
      "5/5 - 10s - loss: 1.6477 - auc: 0.8475 - acc: 0.8250 - positive: 132.0000 - negative: 132.0000 - precision: 0.8250 - recall: 0.8250 - lr: 0.0010 - 10s/epoch - 2s/step\n",
      "Training completed in time:   0:01:36.280740\n"
     ]
    }
   ],
   "source": [
    "start = datetime.now()\n",
    "\n",
    "model_history=model.fit_generator(\n",
    "                            train_set,\n",
    "                            validation_data=test_set,\n",
    "                            epochs=10,\n",
    "                            steps_per_epoch=5,\n",
    "                            validation_steps=32,\n",
    "                            callbacks=callbacks, \n",
    "                            verbose=2)\n",
    "\n",
    "duration = datetime.now() - start\n",
    "print(\"Training completed in time:  \", duration)"
   ]
  },
  {
   "cell_type": "code",
   "execution_count": 119,
   "id": "0699f670",
   "metadata": {},
   "outputs": [
    {
     "data": {
      "image/png": "[encoded data removed]",
      "text/plain": [
       "<Figure size 432x288 with 1 Axes>"
      ]
     },
     "metadata": {
      "needs_background": "light"
     },
     "output_type": "display_data"
    }
   ],
   "source": [
    "plt.plot(model_history.history['precision'])\n",
    "plt.title('Precision')\n",
    "plt.ylabel('Precision')\n",
    "plt.xlabel('Epoch')\n",
    "plt.show()"
   ]
  },
  {
   "cell_type": "code",
   "execution_count": 121,
   "id": "d70cb897",
   "metadata": {},
   "outputs": [
    {
     "data": {
      "image/png": "[encoded data removed]",
      "text/plain": [
       "<Figure size 432x288 with 1 Axes>"
      ]
     },
     "metadata": {
      "needs_background": "light"
     },
     "output_type": "display_data"
    }
   ],
   "source": [
    "plt.plot(model_history.history['recall'])\n",
    "plt.title('Recall')\n",
    "plt.ylabel('Recall')\n",
    "plt.xlabel('Epoch')\n",
    "plt.show()"
   ]
  },
  {
   "cell_type": "code",
   "execution_count": 122,
   "id": "fc6c96e1",
   "metadata": {},
   "outputs": [],
   "source": [
    "old_history = model_history.history.copy()"
   ]
  },
  {
   "cell_type": "code",
   "execution_count": 123,
   "id": "2486faa6",
   "metadata": {},
   "outputs": [
    {
     "name": "stdout",
     "output_type": "stream",
     "text": [
      "21/21 [==============================] - 35s 2s/step - loss: 2.6717 - auc: 0.7951 - acc: 0.7712 - positive: 509.0000 - negative: 509.0000 - precision: 0.7712 - recall: 0.7712\n"
     ]
    }
   ],
   "source": [
    "evaluation = model.evaluate(test_set)"
   ]
  },
  {
   "cell_type": "code",
   "execution_count": 125,
   "id": "d8efb9c7",
   "metadata": {},
   "outputs": [
    {
     "data": {
      "text/plain": [
       "[2.6717164516448975,\n",
       " 0.7950619459152222,\n",
       " 0.771212100982666,\n",
       " 509.0,\n",
       " 509.0,\n",
       " 0.771212100982666,\n",
       " 0.771212100982666]"
      ]
     },
     "execution_count": 125,
     "metadata": {},
     "output_type": "execute_result"
    }
   ],
   "source": [
    "evaluation"
   ]
  },
  {
   "cell_type": "code",
   "execution_count": 129,
   "id": "fe39947e",
   "metadata": {},
   "outputs": [
    {
     "name": "stdout",
     "output_type": "stream",
     "text": [
      "LOSS:   2.6717164516448975\n",
      "AUC:   0.7950619459152222\n",
      "ACC:    0.771212100982666\n",
      "Positive:    509.0\n",
      "Negative:    509.0\n",
      "Precision:    0.771212100982666\n",
      "Recall:     0.771212100982666\n"
     ]
    }
   ],
   "source": [
    "print('LOSS:  ', evaluation[0])\n",
    "print('AUC:  ', evaluation[1])\n",
    "print('ACC:   ', evaluation[2])\n",
    "print('Positive:   ', evaluation[3])\n",
    "print('Negative:   ', evaluation[4])\n",
    "print('Precision:   ', evaluation[5])\n",
    "print('Recall:    ', evaluation[6])"
   ]
  },
  {
   "cell_type": "code",
   "execution_count": 130,
   "id": "b0bd5928",
   "metadata": {},
   "outputs": [
    {
     "data": {
      "text/plain": [
       "{'loss': [2.4233663082122803,\n",
       "  2.6540892124176025,\n",
       "  1.8726037740707397,\n",
       "  1.7130115032196045,\n",
       "  2.0644993782043457,\n",
       "  1.3634272813796997,\n",
       "  2.4153151512145996,\n",
       "  1.9851596355438232,\n",
       "  1.5888046026229858,\n",
       "  1.6476818323135376],\n",
       " 'auc': [0.8153906464576721,\n",
       "  0.7947655916213989,\n",
       "  0.8247265815734863,\n",
       "  0.8716406226158142,\n",
       "  0.8463281989097595,\n",
       "  0.8692969083786011,\n",
       "  0.8477343916893005,\n",
       "  0.845507800579071,\n",
       "  0.8505077958106995,\n",
       "  0.8474999666213989],\n",
       " 'acc': [0.78125,\n",
       "  0.768750011920929,\n",
       "  0.8187500238418579,\n",
       "  0.8374999761581421,\n",
       "  0.8125,\n",
       "  0.8374999761581421,\n",
       "  0.8500000238418579,\n",
       "  0.824999988079071,\n",
       "  0.831250011920929,\n",
       "  0.824999988079071],\n",
       " 'positive': [125.0,\n",
       "  123.0,\n",
       "  131.0,\n",
       "  134.0,\n",
       "  130.0,\n",
       "  134.0,\n",
       "  136.0,\n",
       "  132.0,\n",
       "  133.0,\n",
       "  132.0],\n",
       " 'negative': [125.0,\n",
       "  123.0,\n",
       "  131.0,\n",
       "  134.0,\n",
       "  130.0,\n",
       "  134.0,\n",
       "  136.0,\n",
       "  132.0,\n",
       "  133.0,\n",
       "  132.0],\n",
       " 'precision': [0.78125,\n",
       "  0.768750011920929,\n",
       "  0.8187500238418579,\n",
       "  0.8374999761581421,\n",
       "  0.8125,\n",
       "  0.8374999761581421,\n",
       "  0.8500000238418579,\n",
       "  0.824999988079071,\n",
       "  0.831250011920929,\n",
       "  0.824999988079071],\n",
       " 'recall': [0.78125,\n",
       "  0.768750011920929,\n",
       "  0.8187500238418579,\n",
       "  0.8374999761581421,\n",
       "  0.8125,\n",
       "  0.8374999761581421,\n",
       "  0.8500000238418579,\n",
       "  0.824999988079071,\n",
       "  0.831250011920929,\n",
       "  0.824999988079071],\n",
       " 'lr': [0.001, 0.001, 0.001, 0.001, 0.001, 0.001, 0.001, 0.001, 0.001, 0.001]}"
      ]
     },
     "execution_count": 130,
     "metadata": {},
     "output_type": "execute_result"
    }
   ],
   "source": [
    "model_history.history"
   ]
  },
  {
   "cell_type": "markdown",
   "id": "41e54549",
   "metadata": {},
   "source": [
    "# Trying model with higher learning rate"
   ]
  },
  {
   "cell_type": "code",
   "execution_count": 131,
   "id": "069097f2",
   "metadata": {},
   "outputs": [],
   "source": []
  },
  {
   "cell_type": "code",
   "execution_count": 132,
   "id": "f2798025",
   "metadata": {},
   "outputs": [
    {
     "name": "stdout",
     "output_type": "stream",
     "text": [
      "Model: \"model_4\"\n",
      "_________________________________________________________________\n",
      " Layer (type)                Output Shape              Param #   \n",
      "=================================================================\n",
      " input_5 (InputLayer)        [(None, 224, 224, 3)]     0         \n",
      "                                                                 \n",
      " block1_conv1 (Conv2D)       (None, 224, 224, 64)      1792      \n",
      "                                                                 \n",
      " block1_conv2 (Conv2D)       (None, 224, 224, 64)      36928     \n",
      "                                                                 \n",
      " block1_pool (MaxPooling2D)  (None, 112, 112, 64)      0         \n",
      "                                                                 \n",
      " block2_conv1 (Conv2D)       (None, 112, 112, 128)     73856     \n",
      "                                                                 \n",
      " block2_conv2 (Conv2D)       (None, 112, 112, 128)     147584    \n",
      "                                                                 \n",
      " block2_pool (MaxPooling2D)  (None, 56, 56, 128)       0         \n",
      "                                                                 \n",
      " block3_conv1 (Conv2D)       (None, 56, 56, 256)       295168    \n",
      "                                                                 \n",
      " block3_conv2 (Conv2D)       (None, 56, 56, 256)       590080    \n",
      "                                                                 \n",
      " block3_conv3 (Conv2D)       (None, 56, 56, 256)       590080    \n",
      "                                                                 \n",
      " block3_pool (MaxPooling2D)  (None, 28, 28, 256)       0         \n",
      "                                                                 \n",
      " block4_conv1 (Conv2D)       (None, 28, 28, 512)       1180160   \n",
      "                                                                 \n",
      " block4_conv2 (Conv2D)       (None, 28, 28, 512)       2359808   \n",
      "                                                                 \n",
      " block4_conv3 (Conv2D)       (None, 28, 28, 512)       2359808   \n",
      "                                                                 \n",
      " block4_pool (MaxPooling2D)  (None, 14, 14, 512)       0         \n",
      "                                                                 \n",
      " block5_conv1 (Conv2D)       (None, 14, 14, 512)       2359808   \n",
      "                                                                 \n",
      " block5_conv2 (Conv2D)       (None, 14, 14, 512)       2359808   \n",
      "                                                                 \n",
      " block5_conv3 (Conv2D)       (None, 14, 14, 512)       2359808   \n",
      "                                                                 \n",
      " block5_pool (MaxPooling2D)  (None, 7, 7, 512)         0         \n",
      "                                                                 \n",
      " flatten_6 (Flatten)         (None, 25088)             0         \n",
      "                                                                 \n",
      " dense_6 (Dense)             (None, 2)                 50178     \n",
      "                                                                 \n",
      "=================================================================\n",
      "Total params: 14,764,866\n",
      "Trainable params: 50,178\n",
      "Non-trainable params: 14,714,688\n",
      "_________________________________________________________________\n"
     ]
    }
   ],
   "source": [
    "x = Flatten()(vgg.output)\n",
    "prediction = Dense(2, activation='softmax')(x)\n",
    "model = Model(inputs=vgg.input, outputs=prediction)\n",
    "model.summary()"
   ]
  },
  {
   "cell_type": "code",
   "execution_count": 134,
   "id": "9e4bb583",
   "metadata": {},
   "outputs": [],
   "source": [
    "from tensorflow.keras import optimizers\n",
    "import tensorflow\n",
    "\n",
    "\n",
    "metrics_keras = [\n",
    "                tensorflow.keras.metrics.AUC(name=\"auc\"),\n",
    "                tensorflow.keras.metrics.BinaryAccuracy(name=\"acc\"),\n",
    "                tensorflow.keras.metrics.TruePositives(name=\"positive\"),\n",
    "                tensorflow.keras.metrics.TrueNegatives(name=\"negative\"),\n",
    "                tensorflow.keras.metrics.Precision(name=\"precision\"),\n",
    "                tensorflow.keras.metrics.Recall(name=\"recall\"),\n",
    "]\n",
    "\n",
    "adam = optimizers.Adam(learning_rate=0.015)\n",
    "model.compile(loss='binary_crossentropy',\n",
    "             optimizer=adam,\n",
    "             metrics=metrics_keras)"
   ]
  },
  {
   "cell_type": "code",
   "execution_count": 135,
   "id": "7e1b4e9f",
   "metadata": {},
   "outputs": [
    {
     "name": "stderr",
     "output_type": "stream",
     "text": [
      "C:\\Users\\Shahzod\\anaconda3\\envs\\keras\\lib\\site-packages\\ipykernel_launcher.py:10: UserWarning: `Model.fit_generator` is deprecated and will be removed in a future version. Please use `Model.fit`, which supports generators.\n",
      "  # Remove the CWD from sys.path while we load stuff.\n"
     ]
    },
    {
     "name": "stdout",
     "output_type": "stream",
     "text": [
      "Epoch 1/10\n",
      "WARNING:tensorflow:Your input ran out of data; interrupting training. Make sure that your dataset or generator can generate at least `steps_per_epoch * epochs` batches (in this case, 32 batches). You may need to use the repeat() function when building your dataset.\n",
      "5/5 - 46s - loss: 50.2614 - auc: 0.7526 - acc: 0.7125 - positive: 114.0000 - negative: 114.0000 - precision: 0.7125 - recall: 0.7125 - val_loss: 58.6866 - val_auc: 0.7879 - val_acc: 0.7833 - val_positive: 517.0000 - val_negative: 517.0000 - val_precision: 0.7833 - val_recall: 0.7833 - lr: 0.0150 - 46s/epoch - 9s/step\n",
      "Epoch 2/10\n",
      "5/5 - 10s - loss: 37.7615 - auc: 0.7750 - acc: 0.7750 - positive: 124.0000 - negative: 124.0000 - precision: 0.7750 - recall: 0.7750 - lr: 0.0150 - 10s/epoch - 2s/step\n",
      "Epoch 3/10\n",
      "5/5 - 10s - loss: 45.3279 - auc: 0.7750 - acc: 0.7750 - positive: 124.0000 - negative: 124.0000 - precision: 0.7750 - recall: 0.7750 - lr: 0.0150 - 10s/epoch - 2s/step\n",
      "Epoch 4/10\n",
      "5/5 - 10s - loss: 30.1678 - auc: 0.8050 - acc: 0.8000 - positive: 128.0000 - negative: 128.0000 - precision: 0.8000 - recall: 0.8000 - lr: 0.0150 - 10s/epoch - 2s/step\n",
      "Epoch 5/10\n",
      "5/5 - 10s - loss: 16.1868 - auc: 0.8733 - acc: 0.8625 - positive: 138.0000 - negative: 138.0000 - precision: 0.8625 - recall: 0.8625 - lr: 0.0150 - 10s/epoch - 2s/step\n",
      "Epoch 6/10\n",
      "5/5 - 10s - loss: 22.1668 - auc: 0.8176 - acc: 0.8188 - positive: 131.0000 - negative: 131.0000 - precision: 0.8188 - recall: 0.8188 - lr: 0.0150 - 10s/epoch - 2s/step\n",
      "Epoch 7/10\n",
      "5/5 - 10s - loss: 26.9770 - auc: 0.7798 - acc: 0.7750 - positive: 124.0000 - negative: 124.0000 - precision: 0.7750 - recall: 0.7750 - lr: 0.0150 - 10s/epoch - 2s/step\n",
      "Epoch 8/10\n",
      "5/5 - 10s - loss: 20.0454 - auc: 0.8239 - acc: 0.8188 - positive: 131.0000 - negative: 131.0000 - precision: 0.8188 - recall: 0.8188 - lr: 0.0150 - 10s/epoch - 2s/step\n",
      "Epoch 9/10\n",
      "5/5 - 10s - loss: 19.6810 - auc: 0.8062 - acc: 0.8062 - positive: 129.0000 - negative: 129.0000 - precision: 0.8062 - recall: 0.8062 - lr: 0.0150 - 10s/epoch - 2s/step\n",
      "Epoch 10/10\n",
      "5/5 - 10s - loss: 19.5662 - auc: 0.8062 - acc: 0.8062 - positive: 129.0000 - negative: 129.0000 - precision: 0.8062 - recall: 0.8062 - lr: 0.0150 - 10s/epoch - 2s/step\n",
      "Training completed in time:   0:02:14.280380\n"
     ]
    }
   ],
   "source": [
    "start = datetime.now()\n",
    "\n",
    "model_history=model.fit_generator(\n",
    "                            train_set,\n",
    "                            validation_data=test_set,\n",
    "                            epochs=10,\n",
    "                            steps_per_epoch=5,\n",
    "                            validation_steps=32,\n",
    "                            callbacks=callbacks, \n",
    "                            verbose=2)\n",
    "\n",
    "duration = datetime.now() - start\n",
    "print(\"Training completed in time:  \", duration)"
   ]
  },
  {
   "cell_type": "code",
   "execution_count": 136,
   "id": "879ea847",
   "metadata": {},
   "outputs": [
    {
     "data": {
      "image/png": "[encoded data removed]",
      "text/plain": [
       "<Figure size 432x288 with 1 Axes>"
      ]
     },
     "metadata": {
      "needs_background": "light"
     },
     "output_type": "display_data"
    }
   ],
   "source": [
    "plt.plot(model_history.history['precision'])\n",
    "plt.title('Precision')\n",
    "plt.ylabel('Precision')\n",
    "plt.xlabel('Epoch')\n",
    "plt.show()"
   ]
  },
  {
   "cell_type": "code",
   "execution_count": 137,
   "id": "a0e6bfef",
   "metadata": {},
   "outputs": [
    {
     "data": {
      "image/png": "[encoded data removed]",
      "text/plain": [
       "<Figure size 432x288 with 1 Axes>"
      ]
     },
     "metadata": {
      "needs_background": "light"
     },
     "output_type": "display_data"
    }
   ],
   "source": [
    "plt.plot(model_history.history['recall'])\n",
    "plt.title('Recall')\n",
    "plt.ylabel('Recall')\n",
    "plt.xlabel('Epoch')\n",
    "plt.show()"
   ]
  },
  {
   "cell_type": "code",
   "execution_count": 138,
   "id": "1963f75f",
   "metadata": {},
   "outputs": [
    {
     "data": {
      "image/png": "[encoded data removed]",
      "text/plain": [
       "<Figure size 432x288 with 1 Axes>"
      ]
     },
     "metadata": {
      "needs_background": "light"
     },
     "output_type": "display_data"
    }
   ],
   "source": [
    "plt.plot(model_history.history['loss'])\n",
    "plt.title('Loss')\n",
    "plt.ylabel('Loss')\n",
    "plt.xlabel('Epoch')\n",
    "plt.show()"
   ]
  },
  {
   "cell_type": "code",
   "execution_count": 139,
   "id": "6c557d0e",
   "metadata": {},
   "outputs": [],
   "source": [
    "old_history2 = model_history.history.copy()"
   ]
  },
  {
   "cell_type": "code",
   "execution_count": 140,
   "id": "884b977b",
   "metadata": {},
   "outputs": [
    {
     "name": "stdout",
     "output_type": "stream",
     "text": [
      "21/21 [==============================] - 36s 2s/step - loss: 25.6220 - auc: 0.7920 - acc: 0.7879 - positive: 520.0000 - negative: 520.0000 - precision: 0.7879 - recall: 0.7879\n"
     ]
    }
   ],
   "source": [
    "evaluation = model.evaluate(test_set)"
   ]
  },
  {
   "cell_type": "code",
   "execution_count": 141,
   "id": "f02cdfaf",
   "metadata": {},
   "outputs": [
    {
     "name": "stdout",
     "output_type": "stream",
     "text": [
      "LOSS:   25.62196922302246\n",
      "AUC:   0.7920202016830444\n",
      "ACC:    0.7878788113594055\n",
      "Positive:    520.0\n",
      "Negative:    520.0\n",
      "Precision:    0.7878788113594055\n",
      "Recall:     0.7878788113594055\n"
     ]
    }
   ],
   "source": [
    "print('LOSS:  ', evaluation[0])\n",
    "print('AUC:  ', evaluation[1])\n",
    "print('ACC:   ', evaluation[2])\n",
    "print('Positive:   ', evaluation[3])\n",
    "print('Negative:   ', evaluation[4])\n",
    "print('Precision:   ', evaluation[5])\n",
    "print('Recall:    ', evaluation[6])"
   ]
  },
  {
   "cell_type": "markdown",
   "id": "363782fb",
   "metadata": {},
   "source": [
    "### model became a bit better let's continue training the model with 100 epoch"
   ]
  },
  {
   "cell_type": "code",
   "execution_count": 142,
   "id": "18ed551a",
   "metadata": {},
   "outputs": [
    {
     "name": "stderr",
     "output_type": "stream",
     "text": [
      "C:\\Users\\Shahzod\\anaconda3\\envs\\keras\\lib\\site-packages\\ipykernel_launcher.py:10: UserWarning: `Model.fit_generator` is deprecated and will be removed in a future version. Please use `Model.fit`, which supports generators.\n",
      "  # Remove the CWD from sys.path while we load stuff.\n"
     ]
    },
    {
     "name": "stdout",
     "output_type": "stream",
     "text": [
      "Epoch 1/100\n",
      "WARNING:tensorflow:Your input ran out of data; interrupting training. Make sure that your dataset or generator can generate at least `steps_per_epoch * epochs` batches (in this case, 32 batches). You may need to use the repeat() function when building your dataset.\n",
      "5/5 - 46s - loss: 26.9282 - auc: 0.7875 - acc: 0.7875 - positive: 126.0000 - negative: 126.0000 - precision: 0.7875 - recall: 0.7875 - val_loss: 29.0626 - val_auc: 0.7538 - val_acc: 0.7500 - val_positive: 495.0000 - val_negative: 495.0000 - val_precision: 0.7500 - val_recall: 0.7500 - lr: 0.0150 - 46s/epoch - 9s/step\n",
      "Epoch 2/100\n",
      "5/5 - 10s - loss: 20.6616 - auc: 0.7975 - acc: 0.7937 - positive: 127.0000 - negative: 127.0000 - precision: 0.7937 - recall: 0.7937 - lr: 0.0150 - 10s/epoch - 2s/step\n",
      "Epoch 3/100\n",
      "5/5 - 10s - loss: 22.0233 - auc: 0.7707 - acc: 0.7688 - positive: 123.0000 - negative: 123.0000 - precision: 0.7688 - recall: 0.7688 - lr: 0.0150 - 10s/epoch - 2s/step\n",
      "Epoch 4/100\n"
     ]
    },
    {
     "ename": "KeyboardInterrupt",
     "evalue": "",
     "output_type": "error",
     "traceback": [
      "\u001b[1;31m-------------------------------------------------------------\u001b[0m",
      "\u001b[1;31mKeyboardInterrupt\u001b[0m           Traceback (most recent call last)",
      "\u001b[1;32m~\\AppData\\Local\\Temp/ipykernel_2696/1332064658.py\u001b[0m in \u001b[0;36m<module>\u001b[1;34m\u001b[0m\n\u001b[0;32m      8\u001b[0m                             \u001b[0mvalidation_steps\u001b[0m\u001b[1;33m=\u001b[0m\u001b[1;36m32\u001b[0m\u001b[1;33m,\u001b[0m\u001b[1;33m\u001b[0m\u001b[1;33m\u001b[0m\u001b[0m\n\u001b[0;32m      9\u001b[0m                             \u001b[0mcallbacks\u001b[0m\u001b[1;33m=\u001b[0m\u001b[0mcallbacks\u001b[0m\u001b[1;33m,\u001b[0m\u001b[1;33m\u001b[0m\u001b[1;33m\u001b[0m\u001b[0m\n\u001b[1;32m---> 10\u001b[1;33m                             verbose=2)\n\u001b[0m\u001b[0;32m     11\u001b[0m \u001b[1;33m\u001b[0m\u001b[0m\n\u001b[0;32m     12\u001b[0m \u001b[0mduration\u001b[0m \u001b[1;33m=\u001b[0m \u001b[0mdatetime\u001b[0m\u001b[1;33m.\u001b[0m\u001b[0mnow\u001b[0m\u001b[1;33m(\u001b[0m\u001b[1;33m)\u001b[0m \u001b[1;33m-\u001b[0m \u001b[0mstart\u001b[0m\u001b[1;33m\u001b[0m\u001b[1;33m\u001b[0m\u001b[0m\n",
      "\u001b[1;32m~\\anaconda3\\envs\\keras\\lib\\site-packages\\keras\\engine\\training.py\u001b[0m in \u001b[0;36mfit_generator\u001b[1;34m(self, generator, steps_per_epoch, epochs, verbose, callbacks, validation_data, validation_steps, validation_freq, class_weight, max_queue_size, workers, use_multiprocessing, shuffle, initial_epoch)\u001b[0m\n\u001b[0;32m   2221\u001b[0m         \u001b[0muse_multiprocessing\u001b[0m\u001b[1;33m=\u001b[0m\u001b[0muse_multiprocessing\u001b[0m\u001b[1;33m,\u001b[0m\u001b[1;33m\u001b[0m\u001b[1;33m\u001b[0m\u001b[0m\n\u001b[0;32m   2222\u001b[0m         \u001b[0mshuffle\u001b[0m\u001b[1;33m=\u001b[0m\u001b[0mshuffle\u001b[0m\u001b[1;33m,\u001b[0m\u001b[1;33m\u001b[0m\u001b[1;33m\u001b[0m\u001b[0m\n\u001b[1;32m-> 2223\u001b[1;33m         initial_epoch=initial_epoch)\n\u001b[0m\u001b[0;32m   2224\u001b[0m \u001b[1;33m\u001b[0m\u001b[0m\n\u001b[0;32m   2225\u001b[0m   \u001b[1;33m@\u001b[0m\u001b[0mdoc_controls\u001b[0m\u001b[1;33m.\u001b[0m\u001b[0mdo_not_generate_docs\u001b[0m\u001b[1;33m\u001b[0m\u001b[1;33m\u001b[0m\u001b[0m\n",
      "\u001b[1;32m~\\anaconda3\\envs\\keras\\lib\\site-packages\\keras\\utils\\traceback_utils.py\u001b[0m in \u001b[0;36merror_handler\u001b[1;34m(*args, **kwargs)\u001b[0m\n\u001b[0;32m     62\u001b[0m     \u001b[0mfiltered_tb\u001b[0m \u001b[1;33m=\u001b[0m \u001b[1;32mNone\u001b[0m\u001b[1;33m\u001b[0m\u001b[1;33m\u001b[0m\u001b[0m\n\u001b[0;32m     63\u001b[0m     \u001b[1;32mtry\u001b[0m\u001b[1;33m:\u001b[0m\u001b[1;33m\u001b[0m\u001b[1;33m\u001b[0m\u001b[0m\n\u001b[1;32m---> 64\u001b[1;33m       \u001b[1;32mreturn\u001b[0m \u001b[0mfn\u001b[0m\u001b[1;33m(\u001b[0m\u001b[1;33m*\u001b[0m\u001b[0margs\u001b[0m\u001b[1;33m,\u001b[0m \u001b[1;33m**\u001b[0m\u001b[0mkwargs\u001b[0m\u001b[1;33m)\u001b[0m\u001b[1;33m\u001b[0m\u001b[1;33m\u001b[0m\u001b[0m\n\u001b[0m\u001b[0;32m     65\u001b[0m     \u001b[1;32mexcept\u001b[0m \u001b[0mException\u001b[0m \u001b[1;32mas\u001b[0m \u001b[0me\u001b[0m\u001b[1;33m:\u001b[0m  \u001b[1;31m# pylint: disable=broad-except\u001b[0m\u001b[1;33m\u001b[0m\u001b[1;33m\u001b[0m\u001b[0m\n\u001b[0;32m     66\u001b[0m       \u001b[0mfiltered_tb\u001b[0m \u001b[1;33m=\u001b[0m \u001b[0m_process_traceback_frames\u001b[0m\u001b[1;33m(\u001b[0m\u001b[0me\u001b[0m\u001b[1;33m.\u001b[0m\u001b[0m__traceback__\u001b[0m\u001b[1;33m)\u001b[0m\u001b[1;33m\u001b[0m\u001b[1;33m\u001b[0m\u001b[0m\n",
      "\u001b[1;32m~\\anaconda3\\envs\\keras\\lib\\site-packages\\keras\\engine\\training.py\u001b[0m in \u001b[0;36mfit\u001b[1;34m(self, x, y, batch_size, epochs, verbose, callbacks, validation_split, validation_data, shuffle, class_weight, sample_weight, initial_epoch, steps_per_epoch, validation_steps, validation_batch_size, validation_freq, max_queue_size, workers, use_multiprocessing)\u001b[0m\n\u001b[0;32m   1382\u001b[0m                 _r=1):\n\u001b[0;32m   1383\u001b[0m               \u001b[0mcallbacks\u001b[0m\u001b[1;33m.\u001b[0m\u001b[0mon_train_batch_begin\u001b[0m\u001b[1;33m(\u001b[0m\u001b[0mstep\u001b[0m\u001b[1;33m)\u001b[0m\u001b[1;33m\u001b[0m\u001b[1;33m\u001b[0m\u001b[0m\n\u001b[1;32m-> 1384\u001b[1;33m               \u001b[0mtmp_logs\u001b[0m \u001b[1;33m=\u001b[0m \u001b[0mself\u001b[0m\u001b[1;33m.\u001b[0m\u001b[0mtrain_function\u001b[0m\u001b[1;33m(\u001b[0m\u001b[0miterator\u001b[0m\u001b[1;33m)\u001b[0m\u001b[1;33m\u001b[0m\u001b[1;33m\u001b[0m\u001b[0m\n\u001b[0m\u001b[0;32m   1385\u001b[0m               \u001b[1;32mif\u001b[0m \u001b[0mdata_handler\u001b[0m\u001b[1;33m.\u001b[0m\u001b[0mshould_sync\u001b[0m\u001b[1;33m:\u001b[0m\u001b[1;33m\u001b[0m\u001b[1;33m\u001b[0m\u001b[0m\n\u001b[0;32m   1386\u001b[0m                 \u001b[0mcontext\u001b[0m\u001b[1;33m.\u001b[0m\u001b[0masync_wait\u001b[0m\u001b[1;33m(\u001b[0m\u001b[1;33m)\u001b[0m\u001b[1;33m\u001b[0m\u001b[1;33m\u001b[0m\u001b[0m\n",
      "\u001b[1;32m~\\anaconda3\\envs\\keras\\lib\\site-packages\\tensorflow\\python\\util\\traceback_utils.py\u001b[0m in \u001b[0;36merror_handler\u001b[1;34m(*args, **kwargs)\u001b[0m\n\u001b[0;32m    148\u001b[0m     \u001b[0mfiltered_tb\u001b[0m \u001b[1;33m=\u001b[0m \u001b[1;32mNone\u001b[0m\u001b[1;33m\u001b[0m\u001b[1;33m\u001b[0m\u001b[0m\n\u001b[0;32m    149\u001b[0m     \u001b[1;32mtry\u001b[0m\u001b[1;33m:\u001b[0m\u001b[1;33m\u001b[0m\u001b[1;33m\u001b[0m\u001b[0m\n\u001b[1;32m--> 150\u001b[1;33m       \u001b[1;32mreturn\u001b[0m \u001b[0mfn\u001b[0m\u001b[1;33m(\u001b[0m\u001b[1;33m*\u001b[0m\u001b[0margs\u001b[0m\u001b[1;33m,\u001b[0m \u001b[1;33m**\u001b[0m\u001b[0mkwargs\u001b[0m\u001b[1;33m)\u001b[0m\u001b[1;33m\u001b[0m\u001b[1;33m\u001b[0m\u001b[0m\n\u001b[0m\u001b[0;32m    151\u001b[0m     \u001b[1;32mexcept\u001b[0m \u001b[0mException\u001b[0m \u001b[1;32mas\u001b[0m \u001b[0me\u001b[0m\u001b[1;33m:\u001b[0m\u001b[1;33m\u001b[0m\u001b[1;33m\u001b[0m\u001b[0m\n\u001b[0;32m    152\u001b[0m       \u001b[0mfiltered_tb\u001b[0m \u001b[1;33m=\u001b[0m \u001b[0m_process_traceback_frames\u001b[0m\u001b[1;33m(\u001b[0m\u001b[0me\u001b[0m\u001b[1;33m.\u001b[0m\u001b[0m__traceback__\u001b[0m\u001b[1;33m)\u001b[0m\u001b[1;33m\u001b[0m\u001b[1;33m\u001b[0m\u001b[0m\n",
      "\u001b[1;32m~\\anaconda3\\envs\\keras\\lib\\site-packages\\tensorflow\\python\\eager\\def_function.py\u001b[0m in \u001b[0;36m__call__\u001b[1;34m(self, *args, **kwds)\u001b[0m\n\u001b[0;32m    913\u001b[0m \u001b[1;33m\u001b[0m\u001b[0m\n\u001b[0;32m    914\u001b[0m       \u001b[1;32mwith\u001b[0m \u001b[0mOptionalXlaContext\u001b[0m\u001b[1;33m(\u001b[0m\u001b[0mself\u001b[0m\u001b[1;33m.\u001b[0m\u001b[0m_jit_compile\u001b[0m\u001b[1;33m)\u001b[0m\u001b[1;33m:\u001b[0m\u001b[1;33m\u001b[0m\u001b[1;33m\u001b[0m\u001b[0m\n\u001b[1;32m--> 915\u001b[1;33m         \u001b[0mresult\u001b[0m \u001b[1;33m=\u001b[0m \u001b[0mself\u001b[0m\u001b[1;33m.\u001b[0m\u001b[0m_call\u001b[0m\u001b[1;33m(\u001b[0m\u001b[1;33m*\u001b[0m\u001b[0margs\u001b[0m\u001b[1;33m,\u001b[0m \u001b[1;33m**\u001b[0m\u001b[0mkwds\u001b[0m\u001b[1;33m)\u001b[0m\u001b[1;33m\u001b[0m\u001b[1;33m\u001b[0m\u001b[0m\n\u001b[0m\u001b[0;32m    916\u001b[0m \u001b[1;33m\u001b[0m\u001b[0m\n\u001b[0;32m    917\u001b[0m       \u001b[0mnew_tracing_count\u001b[0m \u001b[1;33m=\u001b[0m \u001b[0mself\u001b[0m\u001b[1;33m.\u001b[0m\u001b[0mexperimental_get_tracing_count\u001b[0m\u001b[1;33m(\u001b[0m\u001b[1;33m)\u001b[0m\u001b[1;33m\u001b[0m\u001b[1;33m\u001b[0m\u001b[0m\n",
      "\u001b[1;32m~\\anaconda3\\envs\\keras\\lib\\site-packages\\tensorflow\\python\\eager\\def_function.py\u001b[0m in \u001b[0;36m_call\u001b[1;34m(self, *args, **kwds)\u001b[0m\n\u001b[0;32m    945\u001b[0m       \u001b[1;31m# In this case we have created variables on the first call, so we run the\u001b[0m\u001b[1;33m\u001b[0m\u001b[1;33m\u001b[0m\u001b[1;33m\u001b[0m\u001b[0m\n\u001b[0;32m    946\u001b[0m       \u001b[1;31m# defunned version which is guaranteed to never create variables.\u001b[0m\u001b[1;33m\u001b[0m\u001b[1;33m\u001b[0m\u001b[1;33m\u001b[0m\u001b[0m\n\u001b[1;32m--> 947\u001b[1;33m       \u001b[1;32mreturn\u001b[0m \u001b[0mself\u001b[0m\u001b[1;33m.\u001b[0m\u001b[0m_stateless_fn\u001b[0m\u001b[1;33m(\u001b[0m\u001b[1;33m*\u001b[0m\u001b[0margs\u001b[0m\u001b[1;33m,\u001b[0m \u001b[1;33m**\u001b[0m\u001b[0mkwds\u001b[0m\u001b[1;33m)\u001b[0m  \u001b[1;31m# pylint: disable=not-callable\u001b[0m\u001b[1;33m\u001b[0m\u001b[1;33m\u001b[0m\u001b[0m\n\u001b[0m\u001b[0;32m    948\u001b[0m     \u001b[1;32melif\u001b[0m \u001b[0mself\u001b[0m\u001b[1;33m.\u001b[0m\u001b[0m_stateful_fn\u001b[0m \u001b[1;32mis\u001b[0m \u001b[1;32mnot\u001b[0m \u001b[1;32mNone\u001b[0m\u001b[1;33m:\u001b[0m\u001b[1;33m\u001b[0m\u001b[1;33m\u001b[0m\u001b[0m\n\u001b[0;32m    949\u001b[0m       \u001b[1;31m# Release the lock early so that multiple threads can perform the call\u001b[0m\u001b[1;33m\u001b[0m\u001b[1;33m\u001b[0m\u001b[1;33m\u001b[0m\u001b[0m\n",
      "\u001b[1;32m~\\anaconda3\\envs\\keras\\lib\\site-packages\\tensorflow\\python\\eager\\function.py\u001b[0m in \u001b[0;36m__call__\u001b[1;34m(self, *args, **kwargs)\u001b[0m\n\u001b[0;32m   2955\u001b[0m        filtered_flat_args) = self._maybe_define_function(args, kwargs)\n\u001b[0;32m   2956\u001b[0m     return graph_function._call_flat(\n\u001b[1;32m-> 2957\u001b[1;33m         filtered_flat_args, captured_inputs=graph_function.captured_inputs)  # pylint: disable=protected-access\n\u001b[0m\u001b[0;32m   2958\u001b[0m \u001b[1;33m\u001b[0m\u001b[0m\n\u001b[0;32m   2959\u001b[0m   \u001b[1;33m@\u001b[0m\u001b[0mproperty\u001b[0m\u001b[1;33m\u001b[0m\u001b[1;33m\u001b[0m\u001b[0m\n",
      "\u001b[1;32m~\\anaconda3\\envs\\keras\\lib\\site-packages\\tensorflow\\python\\eager\\function.py\u001b[0m in \u001b[0;36m_call_flat\u001b[1;34m(self, args, captured_inputs, cancellation_manager)\u001b[0m\n\u001b[0;32m   1852\u001b[0m       \u001b[1;31m# No tape is watching; skip to running the function.\u001b[0m\u001b[1;33m\u001b[0m\u001b[1;33m\u001b[0m\u001b[1;33m\u001b[0m\u001b[0m\n\u001b[0;32m   1853\u001b[0m       return self._build_call_outputs(self._inference_function.call(\n\u001b[1;32m-> 1854\u001b[1;33m           ctx, args, cancellation_manager=cancellation_manager))\n\u001b[0m\u001b[0;32m   1855\u001b[0m     forward_backward = self._select_forward_and_backward_functions(\n\u001b[0;32m   1856\u001b[0m         \u001b[0margs\u001b[0m\u001b[1;33m,\u001b[0m\u001b[1;33m\u001b[0m\u001b[1;33m\u001b[0m\u001b[0m\n",
      "\u001b[1;32m~\\anaconda3\\envs\\keras\\lib\\site-packages\\tensorflow\\python\\eager\\function.py\u001b[0m in \u001b[0;36mcall\u001b[1;34m(self, ctx, args, cancellation_manager)\u001b[0m\n\u001b[0;32m    502\u001b[0m               \u001b[0minputs\u001b[0m\u001b[1;33m=\u001b[0m\u001b[0margs\u001b[0m\u001b[1;33m,\u001b[0m\u001b[1;33m\u001b[0m\u001b[1;33m\u001b[0m\u001b[0m\n\u001b[0;32m    503\u001b[0m               \u001b[0mattrs\u001b[0m\u001b[1;33m=\u001b[0m\u001b[0mattrs\u001b[0m\u001b[1;33m,\u001b[0m\u001b[1;33m\u001b[0m\u001b[1;33m\u001b[0m\u001b[0m\n\u001b[1;32m--> 504\u001b[1;33m               ctx=ctx)\n\u001b[0m\u001b[0;32m    505\u001b[0m         \u001b[1;32melse\u001b[0m\u001b[1;33m:\u001b[0m\u001b[1;33m\u001b[0m\u001b[1;33m\u001b[0m\u001b[0m\n\u001b[0;32m    506\u001b[0m           outputs = execute.execute_with_cancellation(\n",
      "\u001b[1;32m~\\anaconda3\\envs\\keras\\lib\\site-packages\\tensorflow\\python\\eager\\execute.py\u001b[0m in \u001b[0;36mquick_execute\u001b[1;34m(op_name, num_outputs, inputs, attrs, ctx, name)\u001b[0m\n\u001b[0;32m     53\u001b[0m     \u001b[0mctx\u001b[0m\u001b[1;33m.\u001b[0m\u001b[0mensure_initialized\u001b[0m\u001b[1;33m(\u001b[0m\u001b[1;33m)\u001b[0m\u001b[1;33m\u001b[0m\u001b[1;33m\u001b[0m\u001b[0m\n\u001b[0;32m     54\u001b[0m     tensors = pywrap_tfe.TFE_Py_Execute(ctx._handle, device_name, op_name,\n\u001b[1;32m---> 55\u001b[1;33m                                         inputs, attrs, num_outputs)\n\u001b[0m\u001b[0;32m     56\u001b[0m   \u001b[1;32mexcept\u001b[0m \u001b[0mcore\u001b[0m\u001b[1;33m.\u001b[0m\u001b[0m_NotOkStatusException\u001b[0m \u001b[1;32mas\u001b[0m \u001b[0me\u001b[0m\u001b[1;33m:\u001b[0m\u001b[1;33m\u001b[0m\u001b[1;33m\u001b[0m\u001b[0m\n\u001b[0;32m     57\u001b[0m     \u001b[1;32mif\u001b[0m \u001b[0mname\u001b[0m \u001b[1;32mis\u001b[0m \u001b[1;32mnot\u001b[0m \u001b[1;32mNone\u001b[0m\u001b[1;33m:\u001b[0m\u001b[1;33m\u001b[0m\u001b[1;33m\u001b[0m\u001b[0m\n",
      "\u001b[1;31mKeyboardInterrupt\u001b[0m: "
     ]
    }
   ],
   "source": [
    "start = datetime.now()\n",
    "\n",
    "model_history=model.fit_generator(\n",
    "                            train_set,\n",
    "                            validation_data=test_set,\n",
    "                            epochs=100,\n",
    "                            steps_per_epoch=5,\n",
    "                            validation_steps=32,\n",
    "                            callbacks=callbacks, \n",
    "                            verbose=2)\n",
    "\n",
    "duration = datetime.now() - start\n",
    "print(\"Training completed in time:  \", duration)"
   ]
  },
  {
   "cell_type": "code",
   "execution_count": 19,
   "id": "0eb5cef1",
   "metadata": {},
   "outputs": [],
   "source": [
    "train_set.batch_size = 32\n",
    "test_set.batch_size = 32"
   ]
  },
  {
   "cell_type": "code",
   "execution_count": 144,
   "id": "0fa2878e",
   "metadata": {},
   "outputs": [
    {
     "name": "stderr",
     "output_type": "stream",
     "text": [
      "C:\\Users\\Shahzod\\anaconda3\\envs\\keras\\lib\\site-packages\\ipykernel_launcher.py:10: UserWarning: `Model.fit_generator` is deprecated and will be removed in a future version. Please use `Model.fit`, which supports generators.\n",
      "  # Remove the CWD from sys.path while we load stuff.\n"
     ]
    },
    {
     "name": "stdout",
     "output_type": "stream",
     "text": [
      "Epoch 1/100\n",
      "5/5 - 7s - loss: 23.9443 - auc: 0.8141 - acc: 0.8062 - positive: 129.0000 - negative: 129.0000 - precision: 0.8062 - recall: 0.8062 - lr: 0.0150 - 7s/epoch - 1s/step\n",
      "Epoch 2/100\n",
      "5/5 - 8s - loss: 20.7145 - auc: 0.8375 - acc: 0.8375 - positive: 134.0000 - negative: 134.0000 - precision: 0.8375 - recall: 0.8375 - lr: 0.0150 - 8s/epoch - 2s/step\n",
      "Epoch 3/100\n",
      "5/5 - 10s - loss: 21.7632 - auc: 0.7925 - acc: 0.7937 - positive: 127.0000 - negative: 127.0000 - precision: 0.7937 - recall: 0.7937 - lr: 0.0150 - 10s/epoch - 2s/step\n",
      "Epoch 4/100\n",
      "5/5 - 10s - loss: 22.2425 - auc: 0.7577 - acc: 0.7500 - positive: 120.0000 - negative: 120.0000 - precision: 0.7500 - recall: 0.7500 - lr: 0.0150 - 10s/epoch - 2s/step\n",
      "Epoch 5/100\n",
      "5/5 - 10s - loss: 15.6570 - auc: 0.8354 - acc: 0.8313 - positive: 133.0000 - negative: 133.0000 - precision: 0.8313 - recall: 0.8313 - lr: 0.0150 - 10s/epoch - 2s/step\n",
      "Epoch 6/100\n",
      "5/5 - 10s - loss: 20.0646 - auc: 0.7835 - acc: 0.7812 - positive: 125.0000 - negative: 125.0000 - precision: 0.7812 - recall: 0.7812 - lr: 0.0150 - 10s/epoch - 2s/step\n",
      "Epoch 7/100\n",
      "5/5 - 10s - loss: 15.7101 - auc: 0.7805 - acc: 0.7750 - positive: 124.0000 - negative: 124.0000 - precision: 0.7750 - recall: 0.7750 - lr: 0.0150 - 10s/epoch - 2s/step\n",
      "Epoch 8/100\n",
      "5/5 - 10s - loss: 24.6180 - auc: 0.8010 - acc: 0.7875 - positive: 126.0000 - negative: 126.0000 - precision: 0.7875 - recall: 0.7875 - lr: 0.0150 - 10s/epoch - 2s/step\n",
      "Epoch 9/100\n",
      "5/5 - 10s - loss: 8.4031 - auc: 0.8875 - acc: 0.8875 - positive: 142.0000 - negative: 142.0000 - precision: 0.8875 - recall: 0.8875 - lr: 0.0150 - 10s/epoch - 2s/step\n",
      "Epoch 10/100\n",
      "5/5 - 10s - loss: 20.2773 - auc: 0.8125 - acc: 0.8125 - positive: 130.0000 - negative: 130.0000 - precision: 0.8125 - recall: 0.8125 - lr: 0.0150 - 10s/epoch - 2s/step\n",
      "Epoch 11/100\n",
      "5/5 - 10s - loss: 21.5724 - auc: 0.8734 - acc: 0.8687 - positive: 139.0000 - negative: 139.0000 - precision: 0.8687 - recall: 0.8687 - lr: 0.0150 - 10s/epoch - 2s/step\n",
      "Epoch 12/100\n",
      "5/5 - 9s - loss: 21.6539 - auc: 0.8357 - acc: 0.8298 - positive: 117.0000 - negative: 117.0000 - precision: 0.8298 - recall: 0.8298 - lr: 0.0150 - 9s/epoch - 2s/step\n",
      "Epoch 13/100\n",
      "5/5 - 10s - loss: 18.6782 - auc: 0.7987 - acc: 0.8000 - positive: 128.0000 - negative: 128.0000 - precision: 0.8000 - recall: 0.8000 - lr: 0.0150 - 10s/epoch - 2s/step\n",
      "Epoch 14/100\n",
      "5/5 - 10s - loss: 16.1901 - auc: 0.8554 - acc: 0.8562 - positive: 137.0000 - negative: 137.0000 - precision: 0.8562 - recall: 0.8562 - lr: 0.0150 - 10s/epoch - 2s/step\n",
      "Epoch 15/100\n",
      "5/5 - 10s - loss: 15.5147 - auc: 0.8313 - acc: 0.8313 - positive: 133.0000 - negative: 133.0000 - precision: 0.8313 - recall: 0.8313 - lr: 0.0150 - 10s/epoch - 2s/step\n",
      "Epoch 16/100\n",
      "5/5 - 10s - loss: 16.6527 - auc: 0.8408 - acc: 0.8375 - positive: 134.0000 - negative: 134.0000 - precision: 0.8375 - recall: 0.8375 - lr: 0.0150 - 10s/epoch - 2s/step\n",
      "Epoch 17/100\n",
      "5/5 - 10s - loss: 13.8316 - auc: 0.8783 - acc: 0.8813 - positive: 141.0000 - negative: 141.0000 - precision: 0.8813 - recall: 0.8813 - lr: 0.0150 - 10s/epoch - 2s/step\n",
      "Epoch 18/100\n",
      "5/5 - 10s - loss: 22.7384 - auc: 0.8500 - acc: 0.8500 - positive: 136.0000 - negative: 136.0000 - precision: 0.8500 - recall: 0.8500 - lr: 0.0150 - 10s/epoch - 2s/step\n",
      "Epoch 19/100\n",
      "5/5 - 10s - loss: 22.4689 - auc: 0.8227 - acc: 0.8125 - positive: 130.0000 - negative: 130.0000 - precision: 0.8125 - recall: 0.8125 - lr: 0.0150 - 10s/epoch - 2s/step\n",
      "Epoch 20/100\n",
      "5/5 - 9s - loss: 16.7743 - auc: 0.8143 - acc: 0.8156 - positive: 115.0000 - negative: 115.0000 - precision: 0.8156 - recall: 0.8156 - lr: 0.0150 - 9s/epoch - 2s/step\n",
      "Epoch 21/100\n",
      "5/5 - 10s - loss: 18.1964 - auc: 0.8302 - acc: 0.8313 - positive: 133.0000 - negative: 133.0000 - precision: 0.8313 - recall: 0.8313 - lr: 0.0150 - 10s/epoch - 2s/step\n",
      "Epoch 22/100\n",
      "5/5 - 10s - loss: 15.3585 - auc: 0.8625 - acc: 0.8625 - positive: 138.0000 - negative: 138.0000 - precision: 0.8625 - recall: 0.8625 - lr: 0.0150 - 10s/epoch - 2s/step\n",
      "Epoch 23/100\n",
      "5/5 - 10s - loss: 17.9974 - auc: 0.8481 - acc: 0.8500 - positive: 136.0000 - negative: 136.0000 - precision: 0.8500 - recall: 0.8500 - lr: 0.0150 - 10s/epoch - 2s/step\n",
      "Epoch 24/100\n",
      "5/5 - 10s - loss: 23.6118 - auc: 0.7875 - acc: 0.7875 - positive: 126.0000 - negative: 126.0000 - precision: 0.7875 - recall: 0.7875 - lr: 0.0150 - 10s/epoch - 2s/step\n",
      "Epoch 25/100\n",
      "5/5 - 10s - loss: 22.9899 - auc: 0.8277 - acc: 0.8125 - positive: 130.0000 - negative: 130.0000 - precision: 0.8125 - recall: 0.8125 - lr: 0.0150 - 10s/epoch - 2s/step\n",
      "Epoch 26/100\n",
      "5/5 - 10s - loss: 20.4990 - auc: 0.8670 - acc: 0.8625 - positive: 138.0000 - negative: 138.0000 - precision: 0.8625 - recall: 0.8625 - lr: 0.0150 - 10s/epoch - 2s/step\n",
      "Epoch 27/100\n",
      "5/5 - 10s - loss: 18.2104 - auc: 0.8365 - acc: 0.8375 - positive: 134.0000 - negative: 134.0000 - precision: 0.8375 - recall: 0.8375 - lr: 0.0150 - 10s/epoch - 2s/step\n",
      "Epoch 28/100\n",
      "5/5 - 10s - loss: 32.7111 - auc: 0.7625 - acc: 0.7625 - positive: 122.0000 - negative: 122.0000 - precision: 0.7625 - recall: 0.7625 - lr: 0.0150 - 10s/epoch - 2s/step\n",
      "Epoch 29/100\n",
      "\n",
      "Epoch 29: ReduceLROnPlateau reducing learning rate to 0.0119999997317791.\n",
      "5/5 - 10s - loss: 18.7617 - auc: 0.8291 - acc: 0.8313 - positive: 133.0000 - negative: 133.0000 - precision: 0.8313 - recall: 0.8313 - lr: 0.0150 - 10s/epoch - 2s/step\n",
      "Epoch 30/100\n",
      "5/5 - 10s - loss: 14.7008 - auc: 0.8750 - acc: 0.8750 - positive: 140.0000 - negative: 140.0000 - precision: 0.8750 - recall: 0.8750 - lr: 0.0120 - 10s/epoch - 2s/step\n",
      "Epoch 31/100\n",
      "5/5 - 10s - loss: 21.7168 - auc: 0.8062 - acc: 0.8062 - positive: 129.0000 - negative: 129.0000 - precision: 0.8062 - recall: 0.8062 - lr: 0.0120 - 10s/epoch - 2s/step\n",
      "Epoch 32/100\n",
      "5/5 - 10s - loss: 16.2722 - auc: 0.8364 - acc: 0.8313 - positive: 133.0000 - negative: 133.0000 - precision: 0.8313 - recall: 0.8313 - lr: 0.0120 - 10s/epoch - 2s/step\n",
      "Epoch 33/100\n",
      "5/5 - 10s - loss: 22.4564 - auc: 0.8102 - acc: 0.8125 - positive: 130.0000 - negative: 130.0000 - precision: 0.8125 - recall: 0.8125 - lr: 0.0120 - 10s/epoch - 2s/step\n",
      "Epoch 34/100\n",
      "5/5 - 10s - loss: 30.7534 - auc: 0.8000 - acc: 0.8000 - positive: 128.0000 - negative: 128.0000 - precision: 0.8000 - recall: 0.8000 - lr: 0.0120 - 10s/epoch - 2s/step\n",
      "Epoch 35/100\n",
      "5/5 - 10s - loss: 25.2340 - auc: 0.7862 - acc: 0.7875 - positive: 126.0000 - negative: 126.0000 - precision: 0.7875 - recall: 0.7875 - lr: 0.0120 - 10s/epoch - 2s/step\n",
      "Epoch 36/100\n",
      "5/5 - 10s - loss: 24.8104 - auc: 0.8188 - acc: 0.8188 - positive: 131.0000 - negative: 131.0000 - precision: 0.8188 - recall: 0.8188 - lr: 0.0120 - 10s/epoch - 2s/step\n",
      "Epoch 37/100\n",
      "5/5 - 10s - loss: 22.9515 - auc: 0.8670 - acc: 0.8625 - positive: 138.0000 - negative: 138.0000 - precision: 0.8625 - recall: 0.8625 - lr: 0.0120 - 10s/epoch - 2s/step\n",
      "Epoch 38/100\n",
      "5/5 - 10s - loss: 19.6892 - auc: 0.8302 - acc: 0.8250 - positive: 132.0000 - negative: 132.0000 - precision: 0.8250 - recall: 0.8250 - lr: 0.0120 - 10s/epoch - 2s/step\n",
      "Epoch 39/100\n",
      "5/5 - 9s - loss: 20.6348 - auc: 0.8227 - acc: 0.8227 - positive: 116.0000 - negative: 116.0000 - precision: 0.8227 - recall: 0.8227 - lr: 0.0120 - 9s/epoch - 2s/step\n",
      "Epoch 40/100\n",
      "5/5 - 10s - loss: 20.3796 - auc: 0.8050 - acc: 0.8000 - positive: 128.0000 - negative: 128.0000 - precision: 0.8000 - recall: 0.8000 - lr: 0.0120 - 10s/epoch - 2s/step\n",
      "Epoch 41/100\n",
      "5/5 - 10s - loss: 11.9736 - auc: 0.8742 - acc: 0.8750 - positive: 140.0000 - negative: 140.0000 - precision: 0.8750 - recall: 0.8750 - lr: 0.0120 - 10s/epoch - 2s/step\n",
      "Epoch 42/100\n",
      "5/5 - 10s - loss: 12.9195 - auc: 0.8544 - acc: 0.8500 - positive: 136.0000 - negative: 136.0000 - precision: 0.8500 - recall: 0.8500 - lr: 0.0120 - 10s/epoch - 2s/step\n",
      "Epoch 43/100\n",
      "5/5 - 10s - loss: 14.7083 - auc: 0.8313 - acc: 0.8313 - positive: 133.0000 - negative: 133.0000 - precision: 0.8313 - recall: 0.8313 - lr: 0.0120 - 10s/epoch - 2s/step\n",
      "Epoch 44/100\n",
      "5/5 - 10s - loss: 16.3918 - auc: 0.8427 - acc: 0.8375 - positive: 134.0000 - negative: 134.0000 - precision: 0.8375 - recall: 0.8375 - lr: 0.0120 - 10s/epoch - 2s/step\n",
      "Epoch 45/100\n",
      "5/5 - 10s - loss: 9.2155 - auc: 0.8923 - acc: 0.8875 - positive: 142.0000 - negative: 142.0000 - precision: 0.8875 - recall: 0.8875 - lr: 0.0120 - 10s/epoch - 2s/step\n"
     ]
    },
    {
     "name": "stdout",
     "output_type": "stream",
     "text": [
      "Epoch 46/100\n",
      "5/5 - 10s - loss: 14.7207 - auc: 0.8687 - acc: 0.8687 - positive: 139.0000 - negative: 139.0000 - precision: 0.8687 - recall: 0.8687 - lr: 0.0120 - 10s/epoch - 2s/step\n",
      "Epoch 47/100\n",
      "5/5 - 10s - loss: 19.7811 - auc: 0.8100 - acc: 0.8000 - positive: 128.0000 - negative: 128.0000 - precision: 0.8000 - recall: 0.8000 - lr: 0.0120 - 10s/epoch - 2s/step\n",
      "Epoch 48/100\n",
      "5/5 - 10s - loss: 20.1994 - auc: 0.8438 - acc: 0.8438 - positive: 135.0000 - negative: 135.0000 - precision: 0.8438 - recall: 0.8438 - lr: 0.0120 - 10s/epoch - 2s/step\n",
      "Epoch 49/100\n",
      "5/5 - 10s - loss: 24.1404 - auc: 0.8050 - acc: 0.8062 - positive: 129.0000 - negative: 129.0000 - precision: 0.8062 - recall: 0.8062 - lr: 0.0120 - 10s/epoch - 2s/step\n",
      "Epoch 50/100\n",
      "5/5 - 10s - loss: 19.9265 - auc: 0.8418 - acc: 0.8438 - positive: 135.0000 - negative: 135.0000 - precision: 0.8438 - recall: 0.8438 - lr: 0.0120 - 10s/epoch - 2s/step\n",
      "Epoch 51/100\n",
      "5/5 - 10s - loss: 16.3412 - auc: 0.8313 - acc: 0.8313 - positive: 133.0000 - negative: 133.0000 - precision: 0.8313 - recall: 0.8313 - lr: 0.0120 - 10s/epoch - 2s/step\n",
      "Epoch 52/100\n",
      "5/5 - 10s - loss: 15.5986 - auc: 0.8868 - acc: 0.8813 - positive: 141.0000 - negative: 141.0000 - precision: 0.8813 - recall: 0.8813 - lr: 0.0120 - 10s/epoch - 2s/step\n",
      "Epoch 53/100\n",
      "5/5 - 10s - loss: 14.9202 - auc: 0.8750 - acc: 0.8750 - positive: 140.0000 - negative: 140.0000 - precision: 0.8750 - recall: 0.8750 - lr: 0.0120 - 10s/epoch - 2s/step\n",
      "Epoch 54/100\n",
      "5/5 - 10s - loss: 16.7226 - auc: 0.8930 - acc: 0.8875 - positive: 142.0000 - negative: 142.0000 - precision: 0.8875 - recall: 0.8875 - lr: 0.0120 - 10s/epoch - 2s/step\n",
      "Epoch 55/100\n",
      "5/5 - 10s - loss: 8.6470 - auc: 0.8994 - acc: 0.9000 - positive: 144.0000 - negative: 144.0000 - precision: 0.9000 - recall: 0.9000 - lr: 0.0120 - 10s/epoch - 2s/step\n",
      "Epoch 56/100\n",
      "5/5 - 10s - loss: 15.0754 - auc: 0.8427 - acc: 0.8375 - positive: 134.0000 - negative: 134.0000 - precision: 0.8375 - recall: 0.8375 - lr: 0.0120 - 10s/epoch - 2s/step\n",
      "Epoch 57/100\n",
      "5/5 - 10s - loss: 16.4338 - auc: 0.8625 - acc: 0.8625 - positive: 138.0000 - negative: 138.0000 - precision: 0.8625 - recall: 0.8625 - lr: 0.0120 - 10s/epoch - 2s/step\n",
      "Epoch 58/100\n",
      "5/5 - 10s - loss: 13.4859 - auc: 0.9000 - acc: 0.9000 - positive: 144.0000 - negative: 144.0000 - precision: 0.9000 - recall: 0.9000 - lr: 0.0120 - 10s/epoch - 2s/step\n",
      "Epoch 59/100\n",
      "5/5 - 10s - loss: 29.5677 - auc: 0.8113 - acc: 0.8062 - positive: 129.0000 - negative: 129.0000 - precision: 0.8062 - recall: 0.8062 - lr: 0.0120 - 10s/epoch - 2s/step\n",
      "Epoch 60/100\n",
      "5/5 - 10s - loss: 18.2016 - auc: 0.8625 - acc: 0.8625 - positive: 138.0000 - negative: 138.0000 - precision: 0.8625 - recall: 0.8625 - lr: 0.0120 - 10s/epoch - 2s/step\n",
      "Epoch 61/100\n",
      "5/5 - 10s - loss: 13.0053 - auc: 0.8813 - acc: 0.8813 - positive: 141.0000 - negative: 141.0000 - precision: 0.8813 - recall: 0.8813 - lr: 0.0120 - 10s/epoch - 2s/step\n",
      "Epoch 62/100\n",
      "5/5 - 10s - loss: 21.9184 - auc: 0.8239 - acc: 0.8250 - positive: 132.0000 - negative: 132.0000 - precision: 0.8250 - recall: 0.8250 - lr: 0.0120 - 10s/epoch - 2s/step\n",
      "Epoch 63/100\n",
      "5/5 - 9s - loss: 15.8518 - auc: 0.8865 - acc: 0.8865 - positive: 125.0000 - negative: 125.0000 - precision: 0.8865 - recall: 0.8865 - lr: 0.0120 - 9s/epoch - 2s/step\n",
      "Epoch 64/100\n",
      "5/5 - 9s - loss: 15.5574 - auc: 0.8839 - acc: 0.8723 - positive: 123.0000 - negative: 123.0000 - precision: 0.8723 - recall: 0.8723 - lr: 0.0120 - 9s/epoch - 2s/step\n",
      "Epoch 65/100\n",
      "5/5 - 10s - loss: 21.6021 - auc: 0.8491 - acc: 0.8500 - positive: 136.0000 - negative: 136.0000 - precision: 0.8500 - recall: 0.8500 - lr: 0.0120 - 10s/epoch - 2s/step\n",
      "Epoch 66/100\n",
      "5/5 - 10s - loss: 25.2131 - auc: 0.8375 - acc: 0.8375 - positive: 134.0000 - negative: 134.0000 - precision: 0.8375 - recall: 0.8375 - lr: 0.0120 - 10s/epoch - 2s/step\n",
      "Epoch 67/100\n",
      "5/5 - 9s - loss: 19.2015 - auc: 0.8071 - acc: 0.8014 - positive: 113.0000 - negative: 113.0000 - precision: 0.8014 - recall: 0.8014 - lr: 0.0120 - 9s/epoch - 2s/step\n",
      "Epoch 68/100\n",
      "5/5 - 10s - loss: 16.3923 - auc: 0.8302 - acc: 0.8313 - positive: 133.0000 - negative: 133.0000 - precision: 0.8313 - recall: 0.8313 - lr: 0.0120 - 10s/epoch - 2s/step\n",
      "Epoch 69/100\n",
      "5/5 - 10s - loss: 18.5707 - auc: 0.8125 - acc: 0.8125 - positive: 130.0000 - negative: 130.0000 - precision: 0.8125 - recall: 0.8125 - lr: 0.0120 - 10s/epoch - 2s/step\n",
      "Epoch 70/100\n",
      "5/5 - 8s - loss: 17.2490 - auc: 0.8622 - acc: 0.8582 - positive: 121.0000 - negative: 121.0000 - precision: 0.8582 - recall: 0.8582 - lr: 0.0120 - 8s/epoch - 2s/step\n",
      "Epoch 71/100\n",
      "5/5 - 10s - loss: 19.2615 - auc: 0.8625 - acc: 0.8625 - positive: 138.0000 - negative: 138.0000 - precision: 0.8625 - recall: 0.8625 - lr: 0.0120 - 10s/epoch - 2s/step\n",
      "Epoch 72/100\n",
      "5/5 - 10s - loss: 18.6946 - auc: 0.8553 - acc: 0.8500 - positive: 136.0000 - negative: 136.0000 - precision: 0.8500 - recall: 0.8500 - lr: 0.0120 - 10s/epoch - 2s/step\n",
      "Epoch 73/100\n",
      "5/5 - 10s - loss: 21.4397 - auc: 0.8375 - acc: 0.8375 - positive: 134.0000 - negative: 134.0000 - precision: 0.8375 - recall: 0.8375 - lr: 0.0120 - 10s/epoch - 2s/step\n",
      "Epoch 74/100\n",
      "5/5 - 10s - loss: 13.1793 - auc: 0.8868 - acc: 0.8813 - positive: 141.0000 - negative: 141.0000 - precision: 0.8813 - recall: 0.8813 - lr: 0.0120 - 10s/epoch - 2s/step\n",
      "Epoch 75/100\n",
      "\n",
      "Epoch 75: ReduceLROnPlateau reducing learning rate to 0.009600000083446504.\n",
      "5/5 - 10s - loss: 22.7101 - auc: 0.8563 - acc: 0.8562 - positive: 137.0000 - negative: 137.0000 - precision: 0.8562 - recall: 0.8562 - lr: 0.0120 - 10s/epoch - 2s/step\n",
      "Epoch 76/100\n",
      "5/5 - 10s - loss: 27.4479 - auc: 0.8062 - acc: 0.8062 - positive: 129.0000 - negative: 129.0000 - precision: 0.8062 - recall: 0.8062 - lr: 0.0096 - 10s/epoch - 2s/step\n",
      "Epoch 77/100\n",
      "5/5 - 10s - loss: 11.4666 - auc: 0.8608 - acc: 0.8625 - positive: 138.0000 - negative: 138.0000 - precision: 0.8625 - recall: 0.8625 - lr: 0.0096 - 10s/epoch - 2s/step\n",
      "Epoch 78/100\n",
      "5/5 - 10s - loss: 23.5960 - auc: 0.8023 - acc: 0.7937 - positive: 127.0000 - negative: 127.0000 - precision: 0.7937 - recall: 0.7937 - lr: 0.0096 - 10s/epoch - 2s/step\n",
      "Epoch 79/100\n",
      "5/5 - 10s - loss: 25.9271 - auc: 0.8500 - acc: 0.8500 - positive: 136.0000 - negative: 136.0000 - precision: 0.8500 - recall: 0.8500 - lr: 0.0096 - 10s/epoch - 2s/step\n",
      "Epoch 80/100\n",
      "5/5 - 10s - loss: 16.5021 - auc: 0.8608 - acc: 0.8625 - positive: 138.0000 - negative: 138.0000 - precision: 0.8625 - recall: 0.8625 - lr: 0.0096 - 10s/epoch - 2s/step\n",
      "Epoch 81/100\n",
      "5/5 - 10s - loss: 19.2406 - auc: 0.8250 - acc: 0.8250 - positive: 132.0000 - negative: 132.0000 - precision: 0.8250 - recall: 0.8250 - lr: 0.0096 - 10s/epoch - 2s/step\n",
      "Epoch 82/100\n",
      "5/5 - 10s - loss: 14.0678 - auc: 0.8852 - acc: 0.8750 - positive: 140.0000 - negative: 140.0000 - precision: 0.8750 - recall: 0.8750 - lr: 0.0096 - 10s/epoch - 2s/step\n",
      "Epoch 83/100\n",
      "5/5 - 10s - loss: 19.0352 - auc: 0.8302 - acc: 0.8313 - positive: 133.0000 - negative: 133.0000 - precision: 0.8313 - recall: 0.8313 - lr: 0.0096 - 10s/epoch - 2s/step\n",
      "Epoch 84/100\n",
      "5/5 - 10s - loss: 14.6099 - auc: 0.8679 - acc: 0.8687 - positive: 139.0000 - negative: 139.0000 - precision: 0.8687 - recall: 0.8687 - lr: 0.0096 - 10s/epoch - 2s/step\n",
      "Epoch 85/100\n",
      "5/5 - 10s - loss: 11.4984 - auc: 0.9000 - acc: 0.9000 - positive: 144.0000 - negative: 144.0000 - precision: 0.9000 - recall: 0.9000 - lr: 0.0096 - 10s/epoch - 2s/step\n",
      "Epoch 86/100\n",
      "5/5 - 10s - loss: 17.8664 - auc: 0.8625 - acc: 0.8625 - positive: 138.0000 - negative: 138.0000 - precision: 0.8625 - recall: 0.8625 - lr: 0.0096 - 10s/epoch - 2s/step\n",
      "Epoch 87/100\n",
      "5/5 - 10s - loss: 23.1799 - auc: 0.8438 - acc: 0.8438 - positive: 135.0000 - negative: 135.0000 - precision: 0.8438 - recall: 0.8438 - lr: 0.0096 - 10s/epoch - 2s/step\n",
      "Epoch 88/100\n",
      "5/5 - 10s - loss: 17.2247 - auc: 0.8375 - acc: 0.8375 - positive: 134.0000 - negative: 134.0000 - precision: 0.8375 - recall: 0.8375 - lr: 0.0096 - 10s/epoch - 2s/step\n",
      "Epoch 89/100\n",
      "5/5 - 10s - loss: 12.5523 - auc: 0.8994 - acc: 0.9000 - positive: 144.0000 - negative: 144.0000 - precision: 0.9000 - recall: 0.9000 - lr: 0.0096 - 10s/epoch - 2s/step\n",
      "Epoch 90/100\n",
      "5/5 - 10s - loss: 16.5663 - auc: 0.8563 - acc: 0.8562 - positive: 137.0000 - negative: 137.0000 - precision: 0.8562 - recall: 0.8562 - lr: 0.0096 - 10s/epoch - 2s/step\n"
     ]
    },
    {
     "name": "stdout",
     "output_type": "stream",
     "text": [
      "Epoch 91/100\n",
      "5/5 - 10s - loss: 27.3395 - auc: 0.7847 - acc: 0.7750 - positive: 124.0000 - negative: 124.0000 - precision: 0.7750 - recall: 0.7750 - lr: 0.0096 - 10s/epoch - 2s/step\n",
      "Epoch 92/100\n",
      "5/5 - 10s - loss: 21.8083 - auc: 0.8150 - acc: 0.8000 - positive: 128.0000 - negative: 128.0000 - precision: 0.8000 - recall: 0.8000 - lr: 0.0096 - 10s/epoch - 2s/step\n",
      "Epoch 93/100\n",
      "5/5 - 10s - loss: 17.8919 - auc: 0.8345 - acc: 0.8375 - positive: 134.0000 - negative: 134.0000 - precision: 0.8375 - recall: 0.8375 - lr: 0.0096 - 10s/epoch - 2s/step\n",
      "Epoch 94/100\n",
      "5/5 - 10s - loss: 17.7105 - auc: 0.8364 - acc: 0.8313 - positive: 133.0000 - negative: 133.0000 - precision: 0.8313 - recall: 0.8313 - lr: 0.0096 - 10s/epoch - 2s/step\n",
      "Epoch 95/100\n",
      "\n",
      "Epoch 95: ReduceLROnPlateau reducing learning rate to 0.0076800003647804265.\n",
      "5/5 - 10s - loss: 16.8253 - auc: 0.8353 - acc: 0.8250 - positive: 132.0000 - negative: 132.0000 - precision: 0.8250 - recall: 0.8250 - lr: 0.0096 - 10s/epoch - 2s/step\n",
      "Epoch 96/100\n",
      "5/5 - 10s - loss: 11.0830 - auc: 0.8868 - acc: 0.8875 - positive: 142.0000 - negative: 142.0000 - precision: 0.8875 - recall: 0.8875 - lr: 0.0077 - 10s/epoch - 2s/step\n",
      "Epoch 97/100\n",
      "5/5 - 10s - loss: 7.8136 - auc: 0.9062 - acc: 0.9062 - positive: 145.0000 - negative: 145.0000 - precision: 0.9062 - recall: 0.9062 - lr: 0.0077 - 10s/epoch - 2s/step\n",
      "Epoch 98/100\n",
      "5/5 - 10s - loss: 13.8244 - auc: 0.8500 - acc: 0.8500 - positive: 136.0000 - negative: 136.0000 - precision: 0.8500 - recall: 0.8500 - lr: 0.0077 - 10s/epoch - 2s/step\n",
      "Epoch 99/100\n",
      "5/5 - 10s - loss: 17.7932 - auc: 0.8239 - acc: 0.8188 - positive: 131.0000 - negative: 131.0000 - precision: 0.8188 - recall: 0.8188 - lr: 0.0077 - 10s/epoch - 2s/step\n",
      "Epoch 100/100\n",
      "5/5 - 10s - loss: 14.6030 - auc: 0.8750 - acc: 0.8750 - positive: 140.0000 - negative: 140.0000 - precision: 0.8750 - recall: 0.8750 - lr: 0.0077 - 10s/epoch - 2s/step\n",
      "Training completed in time:   0:16:09.784058\n"
     ]
    }
   ],
   "source": [
    "start = datetime.now()\n",
    "\n",
    "model_history=model.fit_generator(\n",
    "                            train_set,\n",
    "                            validation_data=test_set,\n",
    "                            epochs=100,\n",
    "                            steps_per_epoch=5,\n",
    "                            validation_steps=32,\n",
    "                            callbacks=callbacks, \n",
    "                            verbose=2)\n",
    "\n",
    "duration = datetime.now() - start\n",
    "print(\"Training completed in time:  \", duration)"
   ]
  },
  {
   "cell_type": "code",
   "execution_count": 145,
   "id": "fd170fd7",
   "metadata": {},
   "outputs": [
    {
     "data": {
      "image/png": "[encoded data removed]",
      "text/plain": [
       "<Figure size 432x288 with 1 Axes>"
      ]
     },
     "metadata": {
      "needs_background": "light"
     },
     "output_type": "display_data"
    }
   ],
   "source": [
    "plt.plot(model_history.history['precision'])\n",
    "plt.title('Precision')\n",
    "plt.ylabel('Precision')\n",
    "plt.xlabel('Epoch')\n",
    "plt.show()"
   ]
  },
  {
   "cell_type": "code",
   "execution_count": 146,
   "id": "ea0467f3",
   "metadata": {},
   "outputs": [
    {
     "data": {
      "image/png": "[encoded data removed]",
      "text/plain": [
       "<Figure size 432x288 with 1 Axes>"
      ]
     },
     "metadata": {
      "needs_background": "light"
     },
     "output_type": "display_data"
    }
   ],
   "source": [
    "plt.plot(model_history.history['recall'])\n",
    "plt.title('Recall')\n",
    "plt.ylabel('Recall')\n",
    "plt.xlabel('Epoch')\n",
    "plt.show()"
   ]
  },
  {
   "cell_type": "code",
   "execution_count": 147,
   "id": "557c0682",
   "metadata": {},
   "outputs": [
    {
     "data": {
      "image/png": "[encoded data removed]",
      "text/plain": [
       "<Figure size 432x288 with 1 Axes>"
      ]
     },
     "metadata": {
      "needs_background": "light"
     },
     "output_type": "display_data"
    }
   ],
   "source": [
    "plt.plot(model_history.history['loss'])\n",
    "plt.title('Loss')\n",
    "plt.ylabel('Loss')\n",
    "plt.xlabel('Epoch')\n",
    "plt.show()"
   ]
  },
  {
   "cell_type": "markdown",
   "id": "f260f75d",
   "metadata": {},
   "source": [
    "## bad results ((((((."
   ]
  },
  {
   "cell_type": "markdown",
   "id": "18aa2591",
   "metadata": {},
   "source": [
    "# Try with lower learning rate"
   ]
  },
  {
   "cell_type": "code",
   "execution_count": 148,
   "id": "f5f76e0d",
   "metadata": {},
   "outputs": [
    {
     "name": "stdout",
     "output_type": "stream",
     "text": [
      "Model: \"model_5\"\n",
      "_________________________________________________________________\n",
      " Layer (type)                Output Shape              Param #   \n",
      "=================================================================\n",
      " input_5 (InputLayer)        [(None, 224, 224, 3)]     0         \n",
      "                                                                 \n",
      " block1_conv1 (Conv2D)       (None, 224, 224, 64)      1792      \n",
      "                                                                 \n",
      " block1_conv2 (Conv2D)       (None, 224, 224, 64)      36928     \n",
      "                                                                 \n",
      " block1_pool (MaxPooling2D)  (None, 112, 112, 64)      0         \n",
      "                                                                 \n",
      " block2_conv1 (Conv2D)       (None, 112, 112, 128)     73856     \n",
      "                                                                 \n",
      " block2_conv2 (Conv2D)       (None, 112, 112, 128)     147584    \n",
      "                                                                 \n",
      " block2_pool (MaxPooling2D)  (None, 56, 56, 128)       0         \n",
      "                                                                 \n",
      " block3_conv1 (Conv2D)       (None, 56, 56, 256)       295168    \n",
      "                                                                 \n",
      " block3_conv2 (Conv2D)       (None, 56, 56, 256)       590080    \n",
      "                                                                 \n",
      " block3_conv3 (Conv2D)       (None, 56, 56, 256)       590080    \n",
      "                                                                 \n",
      " block3_pool (MaxPooling2D)  (None, 28, 28, 256)       0         \n",
      "                                                                 \n",
      " block4_conv1 (Conv2D)       (None, 28, 28, 512)       1180160   \n",
      "                                                                 \n",
      " block4_conv2 (Conv2D)       (None, 28, 28, 512)       2359808   \n",
      "                                                                 \n",
      " block4_conv3 (Conv2D)       (None, 28, 28, 512)       2359808   \n",
      "                                                                 \n",
      " block4_pool (MaxPooling2D)  (None, 14, 14, 512)       0         \n",
      "                                                                 \n",
      " block5_conv1 (Conv2D)       (None, 14, 14, 512)       2359808   \n",
      "                                                                 \n",
      " block5_conv2 (Conv2D)       (None, 14, 14, 512)       2359808   \n",
      "                                                                 \n",
      " block5_conv3 (Conv2D)       (None, 14, 14, 512)       2359808   \n",
      "                                                                 \n",
      " block5_pool (MaxPooling2D)  (None, 7, 7, 512)         0         \n",
      "                                                                 \n",
      " flatten_7 (Flatten)         (None, 25088)             0         \n",
      "                                                                 \n",
      " dense_7 (Dense)             (None, 2)                 50178     \n",
      "                                                                 \n",
      "=================================================================\n",
      "Total params: 14,764,866\n",
      "Trainable params: 50,178\n",
      "Non-trainable params: 14,714,688\n",
      "_________________________________________________________________\n"
     ]
    }
   ],
   "source": [
    "x = Flatten()(vgg.output)\n",
    "prediction = Dense(2, activation='softmax')(x)\n",
    "model = Model(inputs=vgg.input, outputs=prediction)\n",
    "model.summary()"
   ]
  },
  {
   "cell_type": "code",
   "execution_count": 149,
   "id": "5e1f476f",
   "metadata": {},
   "outputs": [],
   "source": [
    "from tensorflow.keras import optimizers\n",
    "import tensorflow\n",
    "\n",
    "\n",
    "metrics_keras = [\n",
    "                tensorflow.keras.metrics.AUC(name=\"auc\"),\n",
    "                tensorflow.keras.metrics.BinaryAccuracy(name=\"acc\"),\n",
    "                tensorflow.keras.metrics.TruePositives(name=\"positive\"),\n",
    "                tensorflow.keras.metrics.TrueNegatives(name=\"negative\"),\n",
    "                tensorflow.keras.metrics.Precision(name=\"precision\"),\n",
    "                tensorflow.keras.metrics.Recall(name=\"recall\"),\n",
    "]\n",
    "\n",
    "adam = optimizers.Adam(learning_rate=0.0003)\n",
    "model.compile(loss='binary_crossentropy',\n",
    "             optimizer=adam,\n",
    "             metrics=metrics_keras)"
   ]
  },
  {
   "cell_type": "code",
   "execution_count": 150,
   "id": "fbe82c5b",
   "metadata": {},
   "outputs": [
    {
     "name": "stderr",
     "output_type": "stream",
     "text": [
      "C:\\Users\\Shahzod\\anaconda3\\envs\\keras\\lib\\site-packages\\ipykernel_launcher.py:10: UserWarning: `Model.fit_generator` is deprecated and will be removed in a future version. Please use `Model.fit`, which supports generators.\n",
      "  # Remove the CWD from sys.path while we load stuff.\n"
     ]
    },
    {
     "name": "stdout",
     "output_type": "stream",
     "text": [
      "Epoch 1/10\n",
      "WARNING:tensorflow:Your input ran out of data; interrupting training. Make sure that your dataset or generator can generate at least `steps_per_epoch * epochs` batches (in this case, 32 batches). You may need to use the repeat() function when building your dataset.\n",
      "5/5 - 46s - loss: 2.4804 - auc: 0.5246 - acc: 0.5312 - positive: 85.0000 - negative: 85.0000 - precision: 0.5312 - recall: 0.5312 - val_loss: 2.2135 - val_auc: 0.6847 - val_acc: 0.6485 - val_positive: 428.0000 - val_negative: 428.0000 - val_precision: 0.6485 - val_recall: 0.6485 - lr: 3.0000e-04 - 46s/epoch - 9s/step\n",
      "Epoch 2/10\n",
      "5/5 - 10s - loss: 1.7350 - auc: 0.7377 - acc: 0.7188 - positive: 115.0000 - negative: 115.0000 - precision: 0.7188 - recall: 0.7188 - lr: 3.0000e-04 - 10s/epoch - 2s/step\n",
      "Epoch 3/10\n",
      "5/5 - 10s - loss: 1.1662 - auc: 0.8424 - acc: 0.8000 - positive: 128.0000 - negative: 128.0000 - precision: 0.8000 - recall: 0.8000 - lr: 3.0000e-04 - 10s/epoch - 2s/step\n",
      "Epoch 4/10\n",
      "5/5 - 10s - loss: 1.4786 - auc: 0.8090 - acc: 0.7563 - positive: 121.0000 - negative: 121.0000 - precision: 0.7563 - recall: 0.7563 - lr: 3.0000e-04 - 10s/epoch - 2s/step\n",
      "Epoch 5/10\n",
      "5/5 - 10s - loss: 1.2492 - auc: 0.8244 - acc: 0.7937 - positive: 127.0000 - negative: 127.0000 - precision: 0.7937 - recall: 0.7937 - lr: 3.0000e-04 - 10s/epoch - 2s/step\n",
      "Epoch 6/10\n",
      "5/5 - 10s - loss: 1.2602 - auc: 0.8332 - acc: 0.7937 - positive: 127.0000 - negative: 127.0000 - precision: 0.7937 - recall: 0.7937 - lr: 3.0000e-04 - 10s/epoch - 2s/step\n",
      "Epoch 7/10\n",
      "5/5 - 10s - loss: 1.0644 - auc: 0.8412 - acc: 0.8000 - positive: 128.0000 - negative: 128.0000 - precision: 0.8000 - recall: 0.8000 - lr: 3.0000e-04 - 10s/epoch - 2s/step\n",
      "Epoch 8/10\n",
      "5/5 - 10s - loss: 1.2895 - auc: 0.8034 - acc: 0.7812 - positive: 125.0000 - negative: 125.0000 - precision: 0.7812 - recall: 0.7812 - lr: 3.0000e-04 - 10s/epoch - 2s/step\n",
      "Epoch 9/10\n",
      "5/5 - 10s - loss: 1.0848 - auc: 0.8368 - acc: 0.7750 - positive: 124.0000 - negative: 124.0000 - precision: 0.7750 - recall: 0.7750 - lr: 3.0000e-04 - 10s/epoch - 2s/step\n",
      "Epoch 10/10\n",
      "5/5 - 10s - loss: 1.0682 - auc: 0.8370 - acc: 0.8125 - positive: 130.0000 - negative: 130.0000 - precision: 0.8125 - recall: 0.8125 - lr: 3.0000e-04 - 10s/epoch - 2s/step\n",
      "Training completed in time:   0:02:12.812433\n"
     ]
    }
   ],
   "source": [
    "start = datetime.now()\n",
    "\n",
    "model_history=model.fit_generator(\n",
    "                            train_set,\n",
    "                            validation_data=test_set,\n",
    "                            epochs=10,\n",
    "                            steps_per_epoch=5,\n",
    "                            validation_steps=32,\n",
    "                            callbacks=callbacks, \n",
    "                            verbose=2)\n",
    "\n",
    "duration = datetime.now() - start\n",
    "print(\"Training completed in time:  \", duration)"
   ]
  },
  {
   "cell_type": "markdown",
   "id": "d4971a03",
   "metadata": {},
   "source": [
    "# Try with even less learning rate and try sigmoid activation function, change step size to right one len(train data) // batch size"
   ]
  },
  {
   "cell_type": "code",
   "execution_count": 8,
   "id": "b0f8846c",
   "metadata": {},
   "outputs": [
    {
     "name": "stdout",
     "output_type": "stream",
     "text": [
      "Model: \"model\"\n",
      "_________________________________________________________________\n",
      " Layer (type)                Output Shape              Param #   \n",
      "=================================================================\n",
      " input_1 (InputLayer)        [(None, 224, 224, 3)]     0         \n",
      "                                                                 \n",
      " block1_conv1 (Conv2D)       (None, 224, 224, 64)      1792      \n",
      "                                                                 \n",
      " block1_conv2 (Conv2D)       (None, 224, 224, 64)      36928     \n",
      "                                                                 \n",
      " block1_pool (MaxPooling2D)  (None, 112, 112, 64)      0         \n",
      "                                                                 \n",
      " block2_conv1 (Conv2D)       (None, 112, 112, 128)     73856     \n",
      "                                                                 \n",
      " block2_conv2 (Conv2D)       (None, 112, 112, 128)     147584    \n",
      "                                                                 \n",
      " block2_pool (MaxPooling2D)  (None, 56, 56, 128)       0         \n",
      "                                                                 \n",
      " block3_conv1 (Conv2D)       (None, 56, 56, 256)       295168    \n",
      "                                                                 \n",
      " block3_conv2 (Conv2D)       (None, 56, 56, 256)       590080    \n",
      "                                                                 \n",
      " block3_conv3 (Conv2D)       (None, 56, 56, 256)       590080    \n",
      "                                                                 \n",
      " block3_pool (MaxPooling2D)  (None, 28, 28, 256)       0         \n",
      "                                                                 \n",
      " block4_conv1 (Conv2D)       (None, 28, 28, 512)       1180160   \n",
      "                                                                 \n",
      " block4_conv2 (Conv2D)       (None, 28, 28, 512)       2359808   \n",
      "                                                                 \n",
      " block4_conv3 (Conv2D)       (None, 28, 28, 512)       2359808   \n",
      "                                                                 \n",
      " block4_pool (MaxPooling2D)  (None, 14, 14, 512)       0         \n",
      "                                                                 \n",
      " block5_conv1 (Conv2D)       (None, 14, 14, 512)       2359808   \n",
      "                                                                 \n",
      " block5_conv2 (Conv2D)       (None, 14, 14, 512)       2359808   \n",
      "                                                                 \n",
      " block5_conv3 (Conv2D)       (None, 14, 14, 512)       2359808   \n",
      "                                                                 \n",
      " block5_pool (MaxPooling2D)  (None, 7, 7, 512)         0         \n",
      "                                                                 \n",
      " flatten_1 (Flatten)         (None, 25088)             0         \n",
      "                                                                 \n",
      " dropout (Dropout)           (None, 25088)             0         \n",
      "                                                                 \n",
      " dense (Dense)               (None, 12544)             314716416 \n",
      "                                                                 \n",
      " dropout_1 (Dropout)         (None, 12544)             0         \n",
      "                                                                 \n",
      " dense_1 (Dense)             (None, 2)                 25090     \n",
      "                                                                 \n",
      "=================================================================\n",
      "Total params: 329,456,194\n",
      "Trainable params: 314,741,506\n",
      "Non-trainable params: 14,714,688\n",
      "_________________________________________________________________\n"
     ]
    }
   ],
   "source": [
    "x = Flatten()(vgg.output)\n",
    "x = tensorflow.keras.layers.Dropout(0.5)(x)\n",
    "x = Dense(25088/2, activation='relu')(x)\n",
    "x = tensorflow.keras.layers.Dropout(0.5)(x)\n",
    "prediction = Dense(2, activation='sigmoid')(x)\n",
    "model = Model(inputs=vgg.input, outputs=prediction)\n",
    "model.summary()"
   ]
  },
  {
   "cell_type": "code",
   "execution_count": 9,
   "id": "eb4848f2",
   "metadata": {},
   "outputs": [],
   "source": [
    "from tensorflow.keras import optimizers\n",
    "import tensorflow\n",
    "\n",
    "\n",
    "metrics_keras = [\n",
    "                tensorflow.keras.metrics.AUC(name=\"auc\"),\n",
    "                tensorflow.keras.metrics.BinaryAccuracy(name=\"acc\"),\n",
    "                tensorflow.keras.metrics.TruePositives(name=\"positive\"),\n",
    "                tensorflow.keras.metrics.TrueNegatives(name=\"negative\"),\n",
    "                tensorflow.keras.metrics.Precision(name=\"precision\"),\n",
    "                tensorflow.keras.metrics.Recall(name=\"recall\"),\n",
    "]\n",
    "\n",
    "adam = optimizers.Adam(learning_rate=0.0001)\n",
    "model.compile(loss='binary_crossentropy',\n",
    "             optimizer=adam,\n",
    "             metrics=metrics_keras)"
   ]
  },
  {
   "cell_type": "code",
   "execution_count": 174,
   "id": "0b2fb364",
   "metadata": {},
   "outputs": [],
   "source": [
    "import tensorflow\n",
    "from datetime import datetime\n",
    "from tensorflow.keras.callbacks import ModelCheckpoint\n",
    "from keras.callbacks import ReduceLROnPlateau\n",
    "\n",
    "checkpoint = ModelCheckpoint(filepath='mymodel.h5',\n",
    "                              verbose=2, save_best_only=True)\n",
    "\n",
    "lr_reduce = ReduceLROnPlateau(monitor='auc', mode=\"max\", factor=0.2, min_delta=0.001, patience=5, verbose=1)\n",
    "\n",
    "callbacks = [lr_reduce, checkpoint]"
   ]
  },
  {
   "cell_type": "code",
   "execution_count": 175,
   "id": "682d54ea",
   "metadata": {},
   "outputs": [
    {
     "name": "stderr",
     "output_type": "stream",
     "text": [
      "C:\\Users\\Shahzod\\anaconda3\\envs\\keras\\lib\\site-packages\\ipykernel_launcher.py:10: UserWarning: `Model.fit_generator` is deprecated and will be removed in a future version. Please use `Model.fit`, which supports generators.\n",
      "  # Remove the CWD from sys.path while we load stuff.\n"
     ]
    },
    {
     "name": "stdout",
     "output_type": "stream",
     "text": [
      "Epoch 1/10\n",
      "82/82 [==============================] - ETA: 0s - loss: 4.4703 - auc: 0.7842 - acc: 0.7578 - positive: 1972.0000 - negative: 1976.0000 - precision: 0.7582 - recall: 0.7570WARNING:tensorflow:Your input ran out of data; interrupting training. Make sure that your dataset or generator can generate at least `steps_per_epoch * epochs` batches (in this case, 32 batches). You may need to use the repeat() function when building your dataset.\n",
      "82/82 [==============================] - 266s 3s/step - loss: 4.4703 - auc: 0.7842 - acc: 0.7578 - positive: 1972.0000 - negative: 1976.0000 - precision: 0.7582 - recall: 0.7570 - val_loss: 2.4677 - val_auc: 0.8309 - val_acc: 0.8023 - val_positive: 564.0000 - val_negative: 495.0000 - val_precision: 0.7737 - val_recall: 0.8545 - lr: 1.0000e-04\n",
      "Epoch 2/10\n",
      "82/82 [==============================] - 217s 3s/step - loss: 3.3515 - auc: 0.8230 - acc: 0.7967 - positive: 2077.0000 - negative: 2074.0000 - precision: 0.7964 - recall: 0.7973 - lr: 1.0000e-04\n",
      "Epoch 3/10\n",
      "82/82 [==============================] - 219s 3s/step - loss: 2.6179 - auc: 0.8380 - acc: 0.8058 - positive: 2098.0000 - negative: 2100.0000 - precision: 0.8060 - recall: 0.8054 - lr: 1.0000e-04\n",
      "Epoch 4/10\n",
      "82/82 [==============================] - 218s 3s/step - loss: 2.1520 - auc: 0.8486 - acc: 0.8129 - positive: 2118.0000 - negative: 2117.0000 - precision: 0.8127 - recall: 0.8131 - lr: 1.0000e-04\n",
      "Epoch 5/10\n",
      "82/82 [==============================] - 219s 3s/step - loss: 1.9019 - auc: 0.8564 - acc: 0.8192 - positive: 2139.0000 - negative: 2129.0000 - precision: 0.8180 - recall: 0.8211 - lr: 1.0000e-04\n",
      "Epoch 6/10\n",
      "82/82 [==============================] - 218s 3s/step - loss: 1.6936 - auc: 0.8623 - acc: 0.8192 - positive: 2133.0000 - negative: 2135.0000 - precision: 0.8194 - recall: 0.8188 - lr: 1.0000e-04\n",
      "Epoch 7/10\n",
      "82/82 [==============================] - 219s 3s/step - loss: 1.2885 - auc: 0.8770 - acc: 0.8328 - positive: 2166.0000 - negative: 2173.0000 - precision: 0.8337 - recall: 0.8315 - lr: 1.0000e-04\n",
      "Epoch 8/10\n",
      "82/82 [==============================] - 217s 3s/step - loss: 1.0338 - auc: 0.8887 - acc: 0.8374 - positive: 2179.0000 - negative: 2184.0000 - precision: 0.8381 - recall: 0.8365 - lr: 1.0000e-04\n",
      "Epoch 9/10\n",
      "82/82 [==============================] - 219s 3s/step - loss: 1.0225 - auc: 0.8841 - acc: 0.8223 - positive: 2138.0000 - negative: 2146.0000 - precision: 0.8233 - recall: 0.8207 - lr: 1.0000e-04\n",
      "Epoch 10/10\n",
      "82/82 [==============================] - 219s 3s/step - loss: 0.7382 - auc: 0.9035 - acc: 0.8440 - positive: 2202.0000 - negative: 2195.0000 - precision: 0.8430 - recall: 0.8453 - lr: 1.0000e-04\n",
      "Training completed in time:   0:37:11.178681\n"
     ]
    }
   ],
   "source": [
    "start = datetime.now()\n",
    "\n",
    "model_history=model.fit_generator(\n",
    "                            train_set,\n",
    "                            validation_data=test_set,\n",
    "                            epochs=10,\n",
    "                            steps_per_epoch=2637 // train_set.batch_size,\n",
    "                            validation_steps=32,\n",
    "                            callbacks=callbacks, \n",
    "                            verbose=1)\n",
    "\n",
    "duration = datetime.now() - start\n",
    "print(\"Training completed in time:  \", duration)"
   ]
  },
  {
   "cell_type": "markdown",
   "id": "ad26374a",
   "metadata": {},
   "source": [
    "# we got better result after tuning our model a bit but training time increased because of the increasing steps per epoch"
   ]
  },
  {
   "cell_type": "code",
   "execution_count": 177,
   "id": "95f7ca4b",
   "metadata": {},
   "outputs": [
    {
     "data": {
      "image/png": "[encoded data removed]",
      "text/plain": [
       "<Figure size 432x288 with 1 Axes>"
      ]
     },
     "metadata": {
      "needs_background": "light"
     },
     "output_type": "display_data"
    }
   ],
   "source": [
    "plt.plot(model_history.history['precision'])\n",
    "plt.title('Precision')\n",
    "plt.ylabel('Precision')\n",
    "plt.xlabel('Epoch')\n",
    "plt.show()"
   ]
  },
  {
   "cell_type": "code",
   "execution_count": 178,
   "id": "557c951e",
   "metadata": {},
   "outputs": [
    {
     "data": {
      "image/png": "[encoded data removed]",
      "text/plain": [
       "<Figure size 432x288 with 1 Axes>"
      ]
     },
     "metadata": {
      "needs_background": "light"
     },
     "output_type": "display_data"
    }
   ],
   "source": [
    "plt.plot(model_history.history['recall'])\n",
    "plt.title('Recall')\n",
    "plt.ylabel('Recall')\n",
    "plt.xlabel('Epoch')\n",
    "plt.show()"
   ]
  },
  {
   "cell_type": "code",
   "execution_count": 179,
   "id": "0aab8c98",
   "metadata": {},
   "outputs": [
    {
     "data": {
      "image/png": "[encoded data removed]",
      "text/plain": [
       "<Figure size 432x288 with 1 Axes>"
      ]
     },
     "metadata": {
      "needs_background": "light"
     },
     "output_type": "display_data"
    }
   ],
   "source": [
    "plt.plot(model_history.history['loss'])\n",
    "plt.title('Loss')\n",
    "plt.ylabel('Loss')\n",
    "plt.xlabel('Epoch')\n",
    "plt.show()"
   ]
  },
  {
   "cell_type": "code",
   "execution_count": 180,
   "id": "18c1c746",
   "metadata": {},
   "outputs": [
    {
     "name": "stdout",
     "output_type": "stream",
     "text": [
      "21/21 [==============================] - 38s 2s/step - loss: 0.7103 - auc: 0.8961 - acc: 0.8318 - positive: 554.0000 - negative: 544.0000 - precision: 0.8269 - recall: 0.8394\n"
     ]
    }
   ],
   "source": [
    "evaluation = model.evaluate(test_set)"
   ]
  },
  {
   "cell_type": "code",
   "execution_count": 181,
   "id": "7c4a58b0",
   "metadata": {},
   "outputs": [
    {
     "name": "stdout",
     "output_type": "stream",
     "text": [
      "LOSS:   0.7102922201156616\n",
      "AUC:   0.8961111307144165\n",
      "ACC:    0.831818163394928\n",
      "Positive:    554.0\n",
      "Negative:    544.0\n",
      "Precision:    0.8268656730651855\n",
      "Recall:     0.8393939137458801\n"
     ]
    }
   ],
   "source": [
    "print('LOSS:  ', evaluation[0])\n",
    "print('AUC:  ', evaluation[1])\n",
    "print('ACC:   ', evaluation[2])\n",
    "print('Positive:   ', evaluation[3])\n",
    "print('Negative:   ', evaluation[4])\n",
    "print('Precision:   ', evaluation[5])\n",
    "print('Recall:    ', evaluation[6])"
   ]
  },
  {
   "cell_type": "markdown",
   "id": "eaf82abe",
   "metadata": {},
   "source": [
    "# Let's try model without Dropout and Additional Dense layers"
   ]
  },
  {
   "cell_type": "code",
   "execution_count": 27,
   "id": "e4164282",
   "metadata": {},
   "outputs": [
    {
     "name": "stdout",
     "output_type": "stream",
     "text": [
      "Model: \"model_1\"\n",
      "_________________________________________________________________\n",
      " Layer (type)                Output Shape              Param #   \n",
      "=================================================================\n",
      " input_1 (InputLayer)        [(None, 224, 224, 3)]     0         \n",
      "                                                                 \n",
      " block1_conv1 (Conv2D)       (None, 224, 224, 64)      1792      \n",
      "                                                                 \n",
      " block1_conv2 (Conv2D)       (None, 224, 224, 64)      36928     \n",
      "                                                                 \n",
      " block1_pool (MaxPooling2D)  (None, 112, 112, 64)      0         \n",
      "                                                                 \n",
      " block2_conv1 (Conv2D)       (None, 112, 112, 128)     73856     \n",
      "                                                                 \n",
      " block2_conv2 (Conv2D)       (None, 112, 112, 128)     147584    \n",
      "                                                                 \n",
      " block2_pool (MaxPooling2D)  (None, 56, 56, 128)       0         \n",
      "                                                                 \n",
      " block3_conv1 (Conv2D)       (None, 56, 56, 256)       295168    \n",
      "                                                                 \n",
      " block3_conv2 (Conv2D)       (None, 56, 56, 256)       590080    \n",
      "                                                                 \n",
      " block3_conv3 (Conv2D)       (None, 56, 56, 256)       590080    \n",
      "                                                                 \n",
      " block3_pool (MaxPooling2D)  (None, 28, 28, 256)       0         \n",
      "                                                                 \n",
      " block4_conv1 (Conv2D)       (None, 28, 28, 512)       1180160   \n",
      "                                                                 \n",
      " block4_conv2 (Conv2D)       (None, 28, 28, 512)       2359808   \n",
      "                                                                 \n",
      " block4_conv3 (Conv2D)       (None, 28, 28, 512)       2359808   \n",
      "                                                                 \n",
      " block4_pool (MaxPooling2D)  (None, 14, 14, 512)       0         \n",
      "                                                                 \n",
      " block5_conv1 (Conv2D)       (None, 14, 14, 512)       2359808   \n",
      "                                                                 \n",
      " block5_conv2 (Conv2D)       (None, 14, 14, 512)       2359808   \n",
      "                                                                 \n",
      " block5_conv3 (Conv2D)       (None, 14, 14, 512)       2359808   \n",
      "                                                                 \n",
      " block5_pool (MaxPooling2D)  (None, 7, 7, 512)         0         \n",
      "                                                                 \n",
      " flatten_1 (Flatten)         (None, 25088)             0         \n",
      "                                                                 \n",
      " dense_1 (Dense)             (None, 2)                 50178     \n",
      "                                                                 \n",
      "=================================================================\n",
      "Total params: 14,764,866\n",
      "Trainable params: 50,178\n",
      "Non-trainable params: 14,714,688\n",
      "_________________________________________________________________\n"
     ]
    }
   ],
   "source": [
    "x = Flatten()(vgg.output)\n",
    "prediction = Dense(2, activation='sigmoid')(x)\n",
    "model = Model(inputs=vgg.input, outputs=prediction)\n",
    "model.summary()"
   ]
  },
  {
   "cell_type": "code",
   "execution_count": 11,
   "id": "39c81ccd",
   "metadata": {},
   "outputs": [],
   "source": [
    "from tensorflow.keras import optimizers\n",
    "\n",
    "\n",
    "metrics_keras = [\n",
    "                tensorflow.keras.metrics.AUC(name=\"auc\"),\n",
    "                tensorflow.keras.metrics.BinaryAccuracy(name=\"acc\"),\n",
    "                tensorflow.keras.metrics.TruePositives(name=\"positive\"),\n",
    "                tensorflow.keras.metrics.TrueNegatives(name=\"negative\"),\n",
    "                tensorflow.keras.metrics.Precision(name=\"precision\"),\n",
    "                tensorflow.keras.metrics.Recall(name=\"recall\"),\n",
    "]\n",
    "\n",
    "adam = optimizers.Adam(learning_rate=0.0001)\n",
    "model.compile(loss='binary_crossentropy',\n",
    "             optimizer=adam,\n",
    "             metrics=metrics_keras)"
   ]
  },
  {
   "cell_type": "code",
   "execution_count": 13,
   "id": "af9fa8a4",
   "metadata": {},
   "outputs": [],
   "source": [
    "import tensorflow\n",
    "from datetime import datetime\n",
    "from tensorflow.keras.callbacks import ModelCheckpoint\n",
    "from keras.callbacks import ReduceLROnPlateau\n",
    "\n",
    "checkpoint = ModelCheckpoint(filepath='mymodel.h5',\n",
    "                              verbose=1, save_best_only=True)\n",
    "\n",
    "lr_reduce = ReduceLROnPlateau(monitor='auc', mode=\"max\", factor=0.2, min_delta=0.0001, patience=5, verbose=1)\n",
    "\n",
    "callbacks = [lr_reduce, checkpoint]"
   ]
  },
  {
   "cell_type": "code",
   "execution_count": null,
   "id": "f12244dc",
   "metadata": {},
   "outputs": [
    {
     "name": "stderr",
     "output_type": "stream",
     "text": [
      "C:\\Users\\Shahzod\\anaconda3\\envs\\keras\\lib\\site-packages\\ipykernel_launcher.py:11: UserWarning: `Model.fit_generator` is deprecated and will be removed in a future version. Please use `Model.fit`, which supports generators.\n",
      "  # This is added back by InteractiveShellApp.init_path()\n"
     ]
    },
    {
     "name": "stdout",
     "output_type": "stream",
     "text": [
      "Epoch 1/100\n",
      "82/82 [==============================] - ETA: 0s - loss: 4.9071 - auc: 0.7820 - acc: 0.7560 - positive: 1963.0000 - negative: 1976.0000 - precision: 0.7573 - recall: 0.7536\n",
      "Epoch 1: val_loss improved from inf to 2.92894, saving model to mymodel.h5\n",
      "82/82 [==============================] - 259s 3s/step - loss: 4.9071 - auc: 0.7820 - acc: 0.7560 - positive: 1963.0000 - negative: 1976.0000 - precision: 0.7573 - recall: 0.7536 - val_loss: 2.9289 - val_auc: 0.8222 - val_acc: 0.7837 - val_positive: 443.0000 - val_negative: 510.0000 - val_precision: 0.8189 - val_recall: 0.7286 - lr: 1.0000e-04\n",
      "Epoch 2/100\n",
      "82/82 [==============================] - ETA: 0s - loss: 3.0206 - auc: 0.8272 - acc: 0.7952 - positive: 2076.0000 - negative: 2067.0000 - precision: 0.7942 - recall: 0.7969\n",
      "Epoch 2: val_loss improved from 2.92894 to 2.06684, saving model to mymodel.h5\n",
      "82/82 [==============================] - 265s 3s/step - loss: 3.0206 - auc: 0.8272 - acc: 0.7952 - positive: 2076.0000 - negative: 2067.0000 - precision: 0.7942 - recall: 0.7969 - val_loss: 2.0668 - val_auc: 0.8679 - val_acc: 0.8405 - val_positive: 501.0000 - val_negative: 521.0000 - val_precision: 0.8520 - val_recall: 0.8240 - lr: 1.0000e-04\n",
      "Epoch 3/100\n",
      "82/82 [==============================] - ETA: 0s - loss: 2.6551 - auc: 0.8431 - acc: 0.8083 - positive: 2101.0000 - negative: 2110.0000 - precision: 0.8093 - recall: 0.8065\n",
      "Epoch 3: val_loss improved from 2.06684 to 1.98099, saving model to mymodel.h5\n",
      "82/82 [==============================] - 262s 3s/step - loss: 2.6551 - auc: 0.8431 - acc: 0.8083 - positive: 2101.0000 - negative: 2110.0000 - precision: 0.8093 - recall: 0.8065 - val_loss: 1.9810 - val_auc: 0.8644 - val_acc: 0.8174 - val_positive: 538.0000 - val_negative: 456.0000 - val_precision: 0.7797 - val_recall: 0.8849 - lr: 1.0000e-04\n",
      "Epoch 4/100\n",
      "82/82 [==============================] - ETA: 0s - loss: 2.1755 - auc: 0.8490 - acc: 0.8086 - positive: 2105.0000 - negative: 2108.0000 - precision: 0.8090 - recall: 0.8081\n",
      "Epoch 4: val_loss improved from 1.98099 to 1.76149, saving model to mymodel.h5\n",
      "82/82 [==============================] - 266s 3s/step - loss: 2.1755 - auc: 0.8490 - acc: 0.8086 - positive: 2105.0000 - negative: 2108.0000 - precision: 0.8090 - recall: 0.8081 - val_loss: 1.7615 - val_auc: 0.8624 - val_acc: 0.8141 - val_positive: 505.0000 - val_negative: 485.0000 - val_precision: 0.8041 - val_recall: 0.8306 - lr: 1.0000e-04\n",
      "Epoch 5/100\n",
      "82/82 [==============================] - ETA: 0s - loss: 1.6526 - auc: 0.8696 - acc: 0.8303 - positive: 2161.0000 - negative: 2165.0000 - precision: 0.8308 - recall: 0.8296\n",
      "Epoch 5: val_loss improved from 1.76149 to 1.09934, saving model to mymodel.h5\n",
      "82/82 [==============================] - 265s 3s/step - loss: 1.6526 - auc: 0.8696 - acc: 0.8303 - positive: 2161.0000 - negative: 2165.0000 - precision: 0.8308 - recall: 0.8296 - val_loss: 1.0993 - val_auc: 0.8944 - val_acc: 0.8462 - val_positive: 517.0000 - val_negative: 512.0000 - val_precision: 0.8434 - val_recall: 0.8503 - lr: 1.0000e-04\n",
      "Epoch 6/100\n",
      "74/82 [==========================>...] - ETA: 21s - loss: 1.3879 - auc: 0.8735 - acc: 0.8261 - positive: 1940.0000 - negative: 1941.0000 - precision: 0.8262 - recall: 0.8259"
     ]
    }
   ],
   "source": [
    "start = datetime.now()\n",
    "\n",
    "model_history=model.fit_generator(\n",
    "                            train_set,\n",
    "                            validation_data=test_set,\n",
    "                            epochs=100,\n",
    "                            steps_per_epoch= 2637 // train_set.batch_size,\n",
    "                            validation_steps=630 // test_set.batch_size,\n",
    "                            validation_freq=1,\n",
    "                            callbacks=callbacks, \n",
    "                            verbose=1)\n",
    "\n",
    "duration = datetime.now() - start\n",
    "print(\"Training completed in time:  \", duration)"
   ]
  },
  {
   "cell_type": "code",
   "execution_count": 186,
   "id": "46899b2c",
   "metadata": {},
   "outputs": [
    {
     "name": "stdout",
     "output_type": "stream",
     "text": [
      "21/21 [==============================] - 37s 2s/step - loss: 0.6732 - auc: 0.8975 - acc: 0.8258 - positive: 561.0000 - negative: 529.0000 - precision: 0.8107 - recall: 0.8500\n"
     ]
    }
   ],
   "source": [
    "evaluation = model.evaluate(test_set)"
   ]
  },
  {
   "cell_type": "code",
   "execution_count": 187,
   "id": "23972054",
   "metadata": {},
   "outputs": [
    {
     "name": "stdout",
     "output_type": "stream",
     "text": [
      "LOSS:   0.6732257008552551\n",
      "AUC:   0.8975080251693726\n",
      "ACC:    0.8257575631141663\n",
      "Positive:    561.0\n",
      "Negative:    529.0\n",
      "Precision:    0.810693621635437\n",
      "Recall:     0.8500000238418579\n"
     ]
    }
   ],
   "source": [
    "print('LOSS:  ', evaluation[0])\n",
    "print('AUC:  ', evaluation[1])\n",
    "print('ACC:   ', evaluation[2])\n",
    "print('Positive:   ', evaluation[3])\n",
    "print('Negative:   ', evaluation[4])\n",
    "print('Precision:   ', evaluation[5])\n",
    "print('Recall:    ', evaluation[6])"
   ]
  },
  {
   "cell_type": "code",
   "execution_count": 188,
   "id": "b60cf7c0",
   "metadata": {},
   "outputs": [],
   "source": [
    "model.save_weights('mymodel.h5')"
   ]
  },
  {
   "cell_type": "code",
   "execution_count": 189,
   "id": "27e4184d",
   "metadata": {},
   "outputs": [
    {
     "data": {
      "image/png": "[encoded data removed]",
      "text/plain": [
       "<Figure size 432x288 with 1 Axes>"
      ]
     },
     "metadata": {
      "needs_background": "light"
     },
     "output_type": "display_data"
    }
   ],
   "source": [
    "plt.plot(model_history.history['precision'])\n",
    "plt.title('Precision')\n",
    "plt.ylabel('Precision')\n",
    "plt.xlabel('Epoch')\n",
    "plt.show()"
   ]
  },
  {
   "cell_type": "code",
   "execution_count": 190,
   "id": "7eaa388e",
   "metadata": {},
   "outputs": [
    {
     "data": {
      "image/png": "[encoded data removed]",
      "text/plain": [
       "<Figure size 432x288 with 1 Axes>"
      ]
     },
     "metadata": {
      "needs_background": "light"
     },
     "output_type": "display_data"
    }
   ],
   "source": [
    "plt.plot(model_history.history['recall'])\n",
    "plt.title('Recall')\n",
    "plt.ylabel('Recall')\n",
    "plt.xlabel('Epoch')\n",
    "plt.show()"
   ]
  },
  {
   "cell_type": "code",
   "execution_count": 191,
   "id": "bdf5d242",
   "metadata": {},
   "outputs": [
    {
     "data": {
      "image/png": "[encoded data removed]",
      "text/plain": [
       "<Figure size 432x288 with 1 Axes>"
      ]
     },
     "metadata": {
      "needs_background": "light"
     },
     "output_type": "display_data"
    }
   ],
   "source": [
    "plt.plot(model_history.history['loss'])\n",
    "plt.title('Loss')\n",
    "plt.ylabel('Loss')\n",
    "plt.xlabel('Epoch')\n",
    "plt.show()"
   ]
  },
  {
   "cell_type": "code",
   "execution_count": 192,
   "id": "edd6f1e4",
   "metadata": {},
   "outputs": [
    {
     "data": {
      "text/plain": [
       "{'loss': [1.1905491352081299,\n",
       "  0.9402700066566467,\n",
       "  0.7798566222190857,\n",
       "  0.7357463836669922,\n",
       "  0.6354591250419617,\n",
       "  0.6601080894470215,\n",
       "  0.6203768253326416,\n",
       "  0.6300827264785767,\n",
       "  0.53037029504776,\n",
       "  0.5399621725082397],\n",
       " 'auc': [0.7983686923980713,\n",
       "  0.8476225733757019,\n",
       "  0.8723217844963074,\n",
       "  0.8818537592887878,\n",
       "  0.8973702192306519,\n",
       "  0.8945530652999878,\n",
       "  0.904252827167511,\n",
       "  0.9003869295120239,\n",
       "  0.9173588156700134,\n",
       "  0.9161545038223267],\n",
       " 'acc': [0.7337812185287476,\n",
       "  0.7788867354393005,\n",
       "  0.7971209287643433,\n",
       "  0.8122840523719788,\n",
       "  0.8247600793838501,\n",
       "  0.8182341456413269,\n",
       "  0.8305182456970215,\n",
       "  0.8299424052238464,\n",
       "  0.8406909704208374,\n",
       "  0.8410748839378357],\n",
       " 'positive': [1921.0,\n",
       "  2022.0,\n",
       "  2075.0,\n",
       "  2109.0,\n",
       "  2148.0,\n",
       "  2143.0,\n",
       "  2161.0,\n",
       "  2173.0,\n",
       "  2189.0,\n",
       "  2191.0],\n",
       " 'negative': [1902.0,\n",
       "  2036.0,\n",
       "  2078.0,\n",
       "  2123.0,\n",
       "  2149.0,\n",
       "  2120.0,\n",
       "  2166.0,\n",
       "  2151.0,\n",
       "  2191.0,\n",
       "  2191.0],\n",
       " 'precision': [0.7320883870124817,\n",
       "  0.780393660068512,\n",
       "  0.7974634766578674,\n",
       "  0.8139714598655701,\n",
       "  0.8248847723007202,\n",
       "  0.8154489994049072,\n",
       "  0.8311538696289062,\n",
       "  0.8271793127059937,\n",
       "  0.8409527540206909,\n",
       "  0.8410748839378357],\n",
       " 'recall': [0.7374280095100403,\n",
       "  0.7761996388435364,\n",
       "  0.7965450882911682,\n",
       "  0.8095969557762146,\n",
       "  0.8245681524276733,\n",
       "  0.8226487636566162,\n",
       "  0.8295585513114929,\n",
       "  0.834165096282959,\n",
       "  0.8403071165084839,\n",
       "  0.8410748839378357],\n",
       " 'val_loss': [1.011138677597046],\n",
       " 'val_auc': [0.8419479131698608],\n",
       " 'val_acc': [0.7765151262283325],\n",
       " 'val_positive': [500.0],\n",
       " 'val_negative': [525.0],\n",
       " 'val_precision': [0.787401556968689],\n",
       " 'val_recall': [0.7575757503509521],\n",
       " 'lr': [1e-04, 1e-04, 1e-04, 1e-04, 1e-04, 1e-04, 1e-04, 1e-04, 1e-04, 1e-04]}"
      ]
     },
     "execution_count": 192,
     "metadata": {},
     "output_type": "execute_result"
    }
   ],
   "source": [
    "model_history.history"
   ]
  },
  {
   "cell_type": "code",
   "execution_count": 22,
   "id": "b0351cd9",
   "metadata": {},
   "outputs": [
    {
     "data": {
      "text/plain": [
       "['__class__',\n",
       " '__delattr__',\n",
       " '__dict__',\n",
       " '__dir__',\n",
       " '__doc__',\n",
       " '__eq__',\n",
       " '__format__',\n",
       " '__ge__',\n",
       " '__getattribute__',\n",
       " '__getitem__',\n",
       " '__gt__',\n",
       " '__hash__',\n",
       " '__init__',\n",
       " '__init_subclass__',\n",
       " '__iter__',\n",
       " '__le__',\n",
       " '__len__',\n",
       " '__lt__',\n",
       " '__module__',\n",
       " '__ne__',\n",
       " '__new__',\n",
       " '__next__',\n",
       " '__reduce__',\n",
       " '__reduce_ex__',\n",
       " '__repr__',\n",
       " '__setattr__',\n",
       " '__sizeof__',\n",
       " '__str__',\n",
       " '__subclasshook__',\n",
       " '__weakref__',\n",
       " '_filepaths',\n",
       " '_flow_index',\n",
       " '_get_batches_of_transformed_samples',\n",
       " '_keras_api_names',\n",
       " '_keras_api_names_v1',\n",
       " '_set_index_array',\n",
       " 'allowed_class_modes',\n",
       " 'batch_index',\n",
       " 'batch_size',\n",
       " 'class_indices',\n",
       " 'class_mode',\n",
       " 'classes',\n",
       " 'color_mode',\n",
       " 'data_format',\n",
       " 'directory',\n",
       " 'dtype',\n",
       " 'filenames',\n",
       " 'filepaths',\n",
       " 'image_data_generator',\n",
       " 'image_shape',\n",
       " 'index_array',\n",
       " 'index_generator',\n",
       " 'interpolation',\n",
       " 'labels',\n",
       " 'lock',\n",
       " 'n',\n",
       " 'next',\n",
       " 'num_classes',\n",
       " 'on_epoch_end',\n",
       " 'reset',\n",
       " 'sample_weight',\n",
       " 'samples',\n",
       " 'save_format',\n",
       " 'save_prefix',\n",
       " 'save_to_dir',\n",
       " 'seed',\n",
       " 'set_processing_attrs',\n",
       " 'shuffle',\n",
       " 'split',\n",
       " 'subset',\n",
       " 'target_size',\n",
       " 'total_batches_seen',\n",
       " 'white_list_formats']"
      ]
     },
     "execution_count": 22,
     "metadata": {},
     "output_type": "execute_result"
    }
   ],
   "source": [
    "dir(test_set)"
   ]
  },
  {
   "cell_type": "code",
   "execution_count": null,
   "id": "2ba8cc7a",
   "metadata": {},
   "outputs": [],
   "source": []
  }
 ],
 "metadata": {
  "kernelspec": {
   "display_name": "Python 3 (ipykernel)",
   "language": "python",
   "name": "python3"
  },
  "language_info": {
   "codemirror_mode": {
    "name": "ipython",
    "version": 3
   },
   "file_extension": ".py",
   "mimetype": "text/x-python",
   "name": "python",
   "nbconvert_exporter": "python",
   "pygments_lexer": "ipython3",
   "version": "3.7.11"
  }
 },
 "nbformat": 4,
 "nbformat_minor": 5
}
